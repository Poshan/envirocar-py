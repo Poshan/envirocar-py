{
 "cells": [
  {
   "cell_type": "markdown",
   "metadata": {},
   "source": [
    "## Using the ST-DBSCAN Algorithm"
   ]
  },
  {
   "cell_type": "code",
   "execution_count": 46,
   "metadata": {},
   "outputs": [],
   "source": [
    "from geofeather import to_geofeather, from_geofeather\n",
    "from matplotlib import pyplot as plt\n",
    "import feather\n",
    "import numpy as np\n",
    "import pandas as pd"
   ]
  },
  {
   "cell_type": "markdown",
   "metadata": {},
   "source": [
    "### Functions"
   ]
  },
  {
   "cell_type": "code",
   "execution_count": 47,
   "metadata": {},
   "outputs": [],
   "source": [
    "## source: https://github.com/gitAtila/ST-DBSCAN ##\n",
    "import math\n",
    "from datetime import timedelta\n",
    "from geopy.distance import great_circle\n",
    "\"\"\"\n",
    "INPUTS:\n",
    "    df={o1,o2,...,on} Set of objects\n",
    "    spatial_threshold = Maximum geographical coordinate (spatial) distance value (Eps1)\n",
    "    temporal_threshold = Maximum non-spatial distance value (Eps2)\n",
    "    min_neighbors = Minimun number of points within Eps1 and Eps2 distance\n",
    "OUTPUT:\n",
    "    C = {c1,c2,...,ck} Set of clusters\n",
    "\"\"\"\n",
    "def ST_DBSCAN(df, spatial_threshold, temporal_threshold, min_neighbors):\n",
    "    cluster_label = 0\n",
    "    NOISE = -1\n",
    "    UNMARKED = 777777\n",
    "    stack = []\n",
    "\n",
    "    # initialize each point with unmarked\n",
    "    df['cluster'] = UNMARKED\n",
    "    \n",
    "    # for each point in database\n",
    "    for index, point in df.iterrows():\n",
    "        if df.loc[index]['cluster'] == UNMARKED:\n",
    "            neighborhood = retrieve_neighbors(index, df, spatial_threshold, temporal_threshold)\n",
    "            \n",
    "            if len(neighborhood) < min_neighbors:\n",
    "                df.at[index, 'cluster'] = NOISE\n",
    "\n",
    "            else: # found a core point\n",
    "                cluster_label = cluster_label + 1\n",
    "                df.at[index, 'cluster'] = cluster_label# assign a label to core point\n",
    "\n",
    "                for neig_index in neighborhood: # assign core's label to its neighborhood\n",
    "                    df.at[neig_index, 'cluster'] = cluster_label\n",
    "                    stack.append(neig_index) # append neighborhood to stack\n",
    "                \n",
    "                while len(stack) > 0: # find new neighbors from core point neighborhood\n",
    "                    current_point_index = stack.pop()\n",
    "                    new_neighborhood = retrieve_neighbors(current_point_index, df, spatial_threshold, temporal_threshold)\n",
    "                    \n",
    "                    if len(new_neighborhood) >= min_neighbors: # current_point is a new core\n",
    "                        for neig_index in new_neighborhood:\n",
    "                            neig_cluster = df.loc[neig_index]['cluster']\n",
    "                            if (neig_cluster != NOISE) & (neig_cluster == UNMARKED): \n",
    "                                # TODO: verify cluster average before add new point\n",
    "                                df.at[neig_index, 'cluster'] = cluster_label\n",
    "                                stack.append(neig_index)\n",
    "    return df\n",
    "\n",
    "\n",
    "def retrieve_neighbors(index_center, df, spatial_threshold, temporal_threshold):\n",
    "    neigborhood = []\n",
    "\n",
    "    center_point = df.loc[index_center]\n",
    "\n",
    "    # filter by time \n",
    "    min_time = center_point['date_time'] - timedelta(minutes = temporal_threshold)\n",
    "    max_time = center_point['date_time'] + timedelta(minutes = temporal_threshold)\n",
    "    df = df[(df['date_time'] >= min_time) & (df['date_time'] <= max_time)]\n",
    "\n",
    "    # filter by distance\n",
    "    for index, point in df.iterrows():\n",
    "        if index != index_center:\n",
    "            distance = great_circle((center_point['latitude'], center_point['longitude']), (point['latitude'], point['longitude'])).meters\n",
    "            if distance <= spatial_threshold:\n",
    "                neigborhood.append(index)\n",
    "\n",
    "    return neigborhood"
   ]
  },
  {
   "cell_type": "code",
   "execution_count": 48,
   "metadata": {},
   "outputs": [],
   "source": [
    "def dfScatter(df, xcol='longitude', ycol='latitude', catcol='cluster'):\n",
    "    fig, ax = plt.subplots()\n",
    "    categories = np.unique(df[catcol])\n",
    "    colors = np.linspace(0, 1, len(categories))\n",
    "    colordict = dict(zip(categories, colors))  \n",
    "\n",
    "    df[\"Color\"] = df[catcol].apply(lambda x: colordict[x])\n",
    "    ax.scatter(df[xcol], df[ycol], c=df.Color)\n",
    "    return fig"
   ]
  },
  {
   "cell_type": "markdown",
   "metadata": {},
   "source": [
    "### Data Import"
   ]
  },
  {
   "cell_type": "code",
   "execution_count": 49,
   "metadata": {},
   "outputs": [
    {
     "data": {
      "text/plain": [
       "Index(['level_0', 'index', 'id', 'time', 'geometry', 'GPS Bearing.value',\n",
       "       'GPS Bearing.unit', 'Intake Temperature.value',\n",
       "       'Intake Temperature.unit', 'MAF.value', 'MAF.unit',\n",
       "       'Intake Pressure.value', 'Intake Pressure.unit', 'Engine Load.value',\n",
       "       'Engine Load.unit', 'GPS Accuracy.value', 'GPS Accuracy.unit',\n",
       "       'GPS Altitude.value', 'GPS Altitude.unit', 'Rpm.value', 'Rpm.unit',\n",
       "       'GPS Speed.value', 'GPS Speed.unit', 'GPS VDOP.value', 'GPS VDOP.unit',\n",
       "       'GPS PDOP.value', 'GPS PDOP.unit', 'Speed.value', 'Speed.unit',\n",
       "       'GPS HDOP.value', 'GPS HDOP.unit', 'track.id', 'track.length',\n",
       "       'track.begin', 'track.end', 'sensor.type', 'sensor.engineDisplacement',\n",
       "       'sensor.model', 'sensor.id', 'sensor.fuelType',\n",
       "       'sensor.constructionYear', 'sensor.manufacturer',\n",
       "       'Calculated MAF.value', 'Calculated MAF.unit', 'CO2.value', 'CO2.unit',\n",
       "       'Consumption.value', 'Consumption.unit', 'Throttle Position.value',\n",
       "       'Throttle Position.unit', 'track.appVersion', 'track.touVersion',\n",
       "       'O2 Lambda Voltage.value', 'O2 Lambda Voltage.unit',\n",
       "       'O2 Lambda Voltage ER.value', 'O2 Lambda Voltage ER.unit'],\n",
       "      dtype='object')"
      ]
     },
     "execution_count": 49,
     "metadata": {},
     "output_type": "execute_result"
    }
   ],
   "source": [
    "#importing tracks data\n",
    "track_df = from_geofeather('Data/Monchengladbach_new.feather')\n",
    "track_df.columns"
   ]
  },
  {
   "cell_type": "code",
   "execution_count": 50,
   "metadata": {},
   "outputs": [
    {
     "data": {
      "text/plain": [
       "21708"
      ]
     },
     "execution_count": 50,
     "metadata": {},
     "output_type": "execute_result"
    }
   ],
   "source": [
    "df = track_df.dropna(subset = ['time'])\n",
    "len(df)"
   ]
  },
  {
   "cell_type": "code",
   "execution_count": 51,
   "metadata": {},
   "outputs": [
    {
     "data": {
      "text/html": [
       "<div>\n",
       "<style scoped>\n",
       "    .dataframe tbody tr th:only-of-type {\n",
       "        vertical-align: middle;\n",
       "    }\n",
       "\n",
       "    .dataframe tbody tr th {\n",
       "        vertical-align: top;\n",
       "    }\n",
       "\n",
       "    .dataframe thead th {\n",
       "        text-align: right;\n",
       "    }\n",
       "</style>\n",
       "<table border=\"1\" class=\"dataframe\">\n",
       "  <thead>\n",
       "    <tr style=\"text-align: right;\">\n",
       "      <th></th>\n",
       "      <th>latitude</th>\n",
       "      <th>longitude</th>\n",
       "      <th>date_time</th>\n",
       "    </tr>\n",
       "  </thead>\n",
       "  <tbody>\n",
       "    <tr>\n",
       "      <th>0</th>\n",
       "      <td>51.203280</td>\n",
       "      <td>6.414546</td>\n",
       "      <td>2018-07-11 06:07:23</td>\n",
       "    </tr>\n",
       "    <tr>\n",
       "      <th>1</th>\n",
       "      <td>51.203085</td>\n",
       "      <td>6.415119</td>\n",
       "      <td>2018-07-11 06:07:28</td>\n",
       "    </tr>\n",
       "    <tr>\n",
       "      <th>2</th>\n",
       "      <td>51.202986</td>\n",
       "      <td>6.415637</td>\n",
       "      <td>2018-07-11 06:07:33</td>\n",
       "    </tr>\n",
       "    <tr>\n",
       "      <th>3</th>\n",
       "      <td>51.202912</td>\n",
       "      <td>6.416147</td>\n",
       "      <td>2018-07-11 06:07:38</td>\n",
       "    </tr>\n",
       "    <tr>\n",
       "      <th>4</th>\n",
       "      <td>51.202825</td>\n",
       "      <td>6.416707</td>\n",
       "      <td>2018-07-11 06:07:43</td>\n",
       "    </tr>\n",
       "  </tbody>\n",
       "</table>\n",
       "</div>"
      ],
      "text/plain": [
       "    latitude  longitude           date_time\n",
       "0  51.203280   6.414546 2018-07-11 06:07:23\n",
       "1  51.203085   6.415119 2018-07-11 06:07:28\n",
       "2  51.202986   6.415637 2018-07-11 06:07:33\n",
       "3  51.202912   6.416147 2018-07-11 06:07:38\n",
       "4  51.202825   6.416707 2018-07-11 06:07:43"
      ]
     },
     "execution_count": 51,
     "metadata": {},
     "output_type": "execute_result"
    }
   ],
   "source": [
    "df['latitude'] = df['geometry'].apply(lambda coord: coord.y)\n",
    "df['longitude'] = df['geometry'].apply(lambda coord: coord.x)\n",
    "df['date_time'] = pd.to_datetime(df['time']) #convert to datetime object\n",
    "\n",
    "# df_table must have the columns: 'latitude', 'longitude' and 'date_time'\n",
    "df_table = df[['latitude', 'longitude', 'date_time']].copy()\n",
    "df_table.head()"
   ]
  },
  {
   "cell_type": "code",
   "execution_count": 54,
   "metadata": {},
   "outputs": [
    {
     "name": "stdout",
     "output_type": "stream",
     "text": [
      "Wall time: 3min 34s\n"
     ]
    },
    {
     "data": {
      "text/html": [
       "<div>\n",
       "<style scoped>\n",
       "    .dataframe tbody tr th:only-of-type {\n",
       "        vertical-align: middle;\n",
       "    }\n",
       "\n",
       "    .dataframe tbody tr th {\n",
       "        vertical-align: top;\n",
       "    }\n",
       "\n",
       "    .dataframe thead th {\n",
       "        text-align: right;\n",
       "    }\n",
       "</style>\n",
       "<table border=\"1\" class=\"dataframe\">\n",
       "  <thead>\n",
       "    <tr style=\"text-align: right;\">\n",
       "      <th></th>\n",
       "      <th>latitude</th>\n",
       "      <th>longitude</th>\n",
       "      <th>date_time</th>\n",
       "      <th>cluster</th>\n",
       "    </tr>\n",
       "  </thead>\n",
       "  <tbody>\n",
       "    <tr>\n",
       "      <th>0</th>\n",
       "      <td>51.203280</td>\n",
       "      <td>6.414546</td>\n",
       "      <td>2018-07-11 06:07:23</td>\n",
       "      <td>1</td>\n",
       "    </tr>\n",
       "    <tr>\n",
       "      <th>1</th>\n",
       "      <td>51.203085</td>\n",
       "      <td>6.415119</td>\n",
       "      <td>2018-07-11 06:07:28</td>\n",
       "      <td>1</td>\n",
       "    </tr>\n",
       "    <tr>\n",
       "      <th>2</th>\n",
       "      <td>51.202986</td>\n",
       "      <td>6.415637</td>\n",
       "      <td>2018-07-11 06:07:33</td>\n",
       "      <td>1</td>\n",
       "    </tr>\n",
       "    <tr>\n",
       "      <th>3</th>\n",
       "      <td>51.202912</td>\n",
       "      <td>6.416147</td>\n",
       "      <td>2018-07-11 06:07:38</td>\n",
       "      <td>1</td>\n",
       "    </tr>\n",
       "    <tr>\n",
       "      <th>4</th>\n",
       "      <td>51.202825</td>\n",
       "      <td>6.416707</td>\n",
       "      <td>2018-07-11 06:07:43</td>\n",
       "      <td>1</td>\n",
       "    </tr>\n",
       "  </tbody>\n",
       "</table>\n",
       "</div>"
      ],
      "text/plain": [
       "    latitude  longitude           date_time  cluster\n",
       "0  51.203280   6.414546 2018-07-11 06:07:23        1\n",
       "1  51.203085   6.415119 2018-07-11 06:07:28        1\n",
       "2  51.202986   6.415637 2018-07-11 06:07:33        1\n",
       "3  51.202912   6.416147 2018-07-11 06:07:38        1\n",
       "4  51.202825   6.416707 2018-07-11 06:07:43        1"
      ]
     },
     "execution_count": 54,
     "metadata": {},
     "output_type": "execute_result"
    }
   ],
   "source": [
    "%%time\n",
    "#setting thresholds\n",
    "spatial_threshold = 100 # meters\n",
    "temporal_threshold = 1  # minutes\n",
    "min_neighbors = 2\n",
    "#clustering\n",
    "df_clustering = ST_DBSCAN(df_table, spatial_threshold, temporal_threshold, min_neighbors)\n",
    "df_clustering.head()"
   ]
  },
  {
   "cell_type": "code",
   "execution_count": 58,
   "metadata": {},
   "outputs": [
    {
     "data": {
      "text/plain": [
       "80"
      ]
     },
     "execution_count": 58,
     "metadata": {},
     "output_type": "execute_result"
    }
   ],
   "source": [
    "df_clustering['cluster'].nunique()"
   ]
  },
  {
   "cell_type": "code",
   "execution_count": 43,
   "metadata": {},
   "outputs": [
    {
     "data": {
      "image/png": "[encoded data removed]",
      "text/plain": [
       "<Figure size 432x288 with 1 Axes>"
      ]
     },
     "metadata": {
      "needs_background": "light"
     },
     "output_type": "display_data"
    }
   ],
   "source": [
    "#df_clustering is panda dataframe\n",
    "fig = dfScatter(df_clustering)"
   ]
  },
  {
   "cell_type": "code",
   "execution_count": 38,
   "metadata": {},
   "outputs": [],
   "source": [
    "#conversion to feather format\n",
    "df_clustering.to_feather('Data/stdbscan_cluster50.feather')"
   ]
  },
  {
   "cell_type": "code",
   "execution_count": 39,
   "metadata": {},
   "outputs": [],
   "source": [
    "#importing and checking data from feather\n",
    "df_clustering_df = pd.read_feather('Data/stdbscan_cluster50.feather')"
   ]
  },
  {
   "cell_type": "code",
   "execution_count": 40,
   "metadata": {},
   "outputs": [
    {
     "data": {
      "text/html": [
       "<div>\n",
       "<style scoped>\n",
       "    .dataframe tbody tr th:only-of-type {\n",
       "        vertical-align: middle;\n",
       "    }\n",
       "\n",
       "    .dataframe tbody tr th {\n",
       "        vertical-align: top;\n",
       "    }\n",
       "\n",
       "    .dataframe thead th {\n",
       "        text-align: right;\n",
       "    }\n",
       "</style>\n",
       "<table border=\"1\" class=\"dataframe\">\n",
       "  <thead>\n",
       "    <tr style=\"text-align: right;\">\n",
       "      <th></th>\n",
       "      <th>index</th>\n",
       "      <th>latitude</th>\n",
       "      <th>longitude</th>\n",
       "      <th>date_time</th>\n",
       "      <th>cluster</th>\n",
       "    </tr>\n",
       "  </thead>\n",
       "  <tbody>\n",
       "    <tr>\n",
       "      <th>0</th>\n",
       "      <td>0</td>\n",
       "      <td>51.203280</td>\n",
       "      <td>6.414546</td>\n",
       "      <td>2018-07-11 06:07:23</td>\n",
       "      <td>1</td>\n",
       "    </tr>\n",
       "    <tr>\n",
       "      <th>1</th>\n",
       "      <td>1</td>\n",
       "      <td>51.203085</td>\n",
       "      <td>6.415119</td>\n",
       "      <td>2018-07-11 06:07:28</td>\n",
       "      <td>1</td>\n",
       "    </tr>\n",
       "    <tr>\n",
       "      <th>2</th>\n",
       "      <td>2</td>\n",
       "      <td>51.202986</td>\n",
       "      <td>6.415637</td>\n",
       "      <td>2018-07-11 06:07:33</td>\n",
       "      <td>1</td>\n",
       "    </tr>\n",
       "    <tr>\n",
       "      <th>3</th>\n",
       "      <td>3</td>\n",
       "      <td>51.202912</td>\n",
       "      <td>6.416147</td>\n",
       "      <td>2018-07-11 06:07:38</td>\n",
       "      <td>1</td>\n",
       "    </tr>\n",
       "    <tr>\n",
       "      <th>4</th>\n",
       "      <td>4</td>\n",
       "      <td>51.202825</td>\n",
       "      <td>6.416707</td>\n",
       "      <td>2018-07-11 06:07:43</td>\n",
       "      <td>1</td>\n",
       "    </tr>\n",
       "  </tbody>\n",
       "</table>\n",
       "</div>"
      ],
      "text/plain": [
       "   index   latitude  longitude           date_time  cluster\n",
       "0      0  51.203280   6.414546 2018-07-11 06:07:23        1\n",
       "1      1  51.203085   6.415119 2018-07-11 06:07:28        1\n",
       "2      2  51.202986   6.415637 2018-07-11 06:07:33        1\n",
       "3      3  51.202912   6.416147 2018-07-11 06:07:38        1\n",
       "4      4  51.202825   6.416707 2018-07-11 06:07:43        1"
      ]
     },
     "execution_count": 40,
     "metadata": {},
     "output_type": "execute_result"
    }
   ],
   "source": [
    "df_clustering_df.head()"
   ]
  }
 ],
 "metadata": {
  "kernelspec": {
   "display_name": "Python 3",
   "language": "python",
   "name": "python3"
  },
  "language_info": {
   "codemirror_mode": {
    "name": "ipython",
    "version": 3
   },
   "file_extension": ".py",
   "mimetype": "text/x-python",
   "name": "python",
   "nbconvert_exporter": "python",
   "pygments_lexer": "ipython3",
   "version": "3.8.2"
  }
 },
 "nbformat": 4,
 "nbformat_minor": 4
}
