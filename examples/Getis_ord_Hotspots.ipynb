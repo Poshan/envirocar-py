{
 "cells": [
  {
   "cell_type": "code",
   "execution_count": 44,
   "metadata": {},
   "outputs": [
    {
     "name": "stdout",
     "output_type": "stream",
     "text": [
      "The autoreload extension is already loaded. To reload it, use:\n",
      "  %reload_ext autoreload\n"
     ]
    }
   ],
   "source": [
    "%load_ext autoreload\n",
    "%autoreload 2\n",
    "\n",
    "# load dependencies'\n",
    "import pandas as pd\n",
    "import geopandas as gpd\n",
    "import numpy as np\n",
    "import seaborn as sns\n",
    "from datetime import datetime\n",
    "import pysal\n",
    "pd.options.mode.chained_assignment = None \n",
    "from geofeather import to_geofeather, from_geofeather\n",
    "from matplotlib import pyplot as plt\n",
    "\n",
    "from envirocar import TrackAPI, DownloadClient, BboxSelector, ECConfig\n",
    "\n",
    "# create an initial but optional config and an api client\n",
    "config = ECConfig()\n",
    "track_api = TrackAPI(api_client=DownloadClient(config=config))"
   ]
  },
  {
   "cell_type": "code",
   "execution_count": 49,
   "metadata": {},
   "outputs": [
    {
     "data": {
      "text/html": [
       "<div>\n",
       "<style scoped>\n",
       "    .dataframe tbody tr th:only-of-type {\n",
       "        vertical-align: middle;\n",
       "    }\n",
       "\n",
       "    .dataframe tbody tr th {\n",
       "        vertical-align: top;\n",
       "    }\n",
       "\n",
       "    .dataframe thead th {\n",
       "        text-align: right;\n",
       "    }\n",
       "</style>\n",
       "<table border=\"1\" class=\"dataframe\">\n",
       "  <thead>\n",
       "    <tr style=\"text-align: right;\">\n",
       "      <th></th>\n",
       "      <th>index</th>\n",
       "      <th>id</th>\n",
       "      <th>time</th>\n",
       "      <th>geometry</th>\n",
       "      <th>GPS Speed.value</th>\n",
       "      <th>GPS Speed.unit</th>\n",
       "      <th>Rpm.value</th>\n",
       "      <th>Rpm.unit</th>\n",
       "      <th>Consumption.value</th>\n",
       "      <th>Consumption.unit</th>\n",
       "      <th>...</th>\n",
       "      <th>sensor.constructionYear</th>\n",
       "      <th>sensor.manufacturer</th>\n",
       "      <th>Intake Pressure.value</th>\n",
       "      <th>Intake Pressure.unit</th>\n",
       "      <th>O2 Lambda Voltage ER.value</th>\n",
       "      <th>O2 Lambda Voltage ER.unit</th>\n",
       "      <th>O2 Lambda Voltage.value</th>\n",
       "      <th>O2 Lambda Voltage.unit</th>\n",
       "      <th>Calculated MAF.value</th>\n",
       "      <th>Calculated MAF.unit</th>\n",
       "    </tr>\n",
       "  </thead>\n",
       "  <tbody>\n",
       "    <tr>\n",
       "      <th>0</th>\n",
       "      <td>0</td>\n",
       "      <td>5ced331e44ea8503029199ba</td>\n",
       "      <td>2019-05-27T15:22:55</td>\n",
       "      <td>POINT (7.05132 51.05489)</td>\n",
       "      <td>48.294837</td>\n",
       "      <td>km/h</td>\n",
       "      <td>1778.965422</td>\n",
       "      <td>u/min</td>\n",
       "      <td>3.412819</td>\n",
       "      <td>l/h</td>\n",
       "      <td>...</td>\n",
       "      <td>2003</td>\n",
       "      <td>Volvo</td>\n",
       "      <td>NaN</td>\n",
       "      <td>None</td>\n",
       "      <td>NaN</td>\n",
       "      <td>None</td>\n",
       "      <td>NaN</td>\n",
       "      <td>None</td>\n",
       "      <td>NaN</td>\n",
       "      <td>None</td>\n",
       "    </tr>\n",
       "    <tr>\n",
       "      <th>1</th>\n",
       "      <td>1</td>\n",
       "      <td>5ced331e44ea8503029199bc</td>\n",
       "      <td>2019-05-27T15:23:00</td>\n",
       "      <td>POINT (7.05217 51.05517)</td>\n",
       "      <td>48.728474</td>\n",
       "      <td>km/h</td>\n",
       "      <td>1827.263196</td>\n",
       "      <td>u/min</td>\n",
       "      <td>5.332561</td>\n",
       "      <td>l/h</td>\n",
       "      <td>...</td>\n",
       "      <td>2003</td>\n",
       "      <td>Volvo</td>\n",
       "      <td>NaN</td>\n",
       "      <td>None</td>\n",
       "      <td>NaN</td>\n",
       "      <td>None</td>\n",
       "      <td>NaN</td>\n",
       "      <td>None</td>\n",
       "      <td>NaN</td>\n",
       "      <td>None</td>\n",
       "    </tr>\n",
       "    <tr>\n",
       "      <th>2</th>\n",
       "      <td>2</td>\n",
       "      <td>5ced331e44ea8503029199bd</td>\n",
       "      <td>2019-05-27T15:23:05</td>\n",
       "      <td>POINT (7.05317 51.05546)</td>\n",
       "      <td>55.002977</td>\n",
       "      <td>km/h</td>\n",
       "      <td>2090.507247</td>\n",
       "      <td>u/min</td>\n",
       "      <td>8.826228</td>\n",
       "      <td>l/h</td>\n",
       "      <td>...</td>\n",
       "      <td>2003</td>\n",
       "      <td>Volvo</td>\n",
       "      <td>NaN</td>\n",
       "      <td>None</td>\n",
       "      <td>NaN</td>\n",
       "      <td>None</td>\n",
       "      <td>NaN</td>\n",
       "      <td>None</td>\n",
       "      <td>NaN</td>\n",
       "      <td>None</td>\n",
       "    </tr>\n",
       "    <tr>\n",
       "      <th>3</th>\n",
       "      <td>3</td>\n",
       "      <td>5ced331e44ea8503029199be</td>\n",
       "      <td>2019-05-27T15:23:10</td>\n",
       "      <td>POINT (7.05425 51.05578)</td>\n",
       "      <td>61.783353</td>\n",
       "      <td>km/h</td>\n",
       "      <td>1753.334310</td>\n",
       "      <td>u/min</td>\n",
       "      <td>5.029077</td>\n",
       "      <td>l/h</td>\n",
       "      <td>...</td>\n",
       "      <td>2003</td>\n",
       "      <td>Volvo</td>\n",
       "      <td>NaN</td>\n",
       "      <td>None</td>\n",
       "      <td>NaN</td>\n",
       "      <td>None</td>\n",
       "      <td>NaN</td>\n",
       "      <td>None</td>\n",
       "      <td>NaN</td>\n",
       "      <td>None</td>\n",
       "    </tr>\n",
       "    <tr>\n",
       "      <th>4</th>\n",
       "      <td>4</td>\n",
       "      <td>5ced331e44ea8503029199bf</td>\n",
       "      <td>2019-05-27T15:23:15</td>\n",
       "      <td>POINT (7.05530 51.05608)</td>\n",
       "      <td>60.628746</td>\n",
       "      <td>km/h</td>\n",
       "      <td>1752.000000</td>\n",
       "      <td>u/min</td>\n",
       "      <td>5.452218</td>\n",
       "      <td>l/h</td>\n",
       "      <td>...</td>\n",
       "      <td>2003</td>\n",
       "      <td>Volvo</td>\n",
       "      <td>NaN</td>\n",
       "      <td>None</td>\n",
       "      <td>NaN</td>\n",
       "      <td>None</td>\n",
       "      <td>NaN</td>\n",
       "      <td>None</td>\n",
       "      <td>NaN</td>\n",
       "      <td>None</td>\n",
       "    </tr>\n",
       "  </tbody>\n",
       "</table>\n",
       "<p>5 rows × 53 columns</p>\n",
       "</div>"
      ],
      "text/plain": [
       "   index                        id                 time  \\\n",
       "0      0  5ced331e44ea8503029199ba  2019-05-27T15:22:55   \n",
       "1      1  5ced331e44ea8503029199bc  2019-05-27T15:23:00   \n",
       "2      2  5ced331e44ea8503029199bd  2019-05-27T15:23:05   \n",
       "3      3  5ced331e44ea8503029199be  2019-05-27T15:23:10   \n",
       "4      4  5ced331e44ea8503029199bf  2019-05-27T15:23:15   \n",
       "\n",
       "                   geometry  GPS Speed.value GPS Speed.unit    Rpm.value  \\\n",
       "0  POINT (7.05132 51.05489)        48.294837           km/h  1778.965422   \n",
       "1  POINT (7.05217 51.05517)        48.728474           km/h  1827.263196   \n",
       "2  POINT (7.05317 51.05546)        55.002977           km/h  2090.507247   \n",
       "3  POINT (7.05425 51.05578)        61.783353           km/h  1753.334310   \n",
       "4  POINT (7.05530 51.05608)        60.628746           km/h  1752.000000   \n",
       "\n",
       "  Rpm.unit  Consumption.value Consumption.unit  ...  sensor.constructionYear  \\\n",
       "0    u/min           3.412819              l/h  ...                     2003   \n",
       "1    u/min           5.332561              l/h  ...                     2003   \n",
       "2    u/min           8.826228              l/h  ...                     2003   \n",
       "3    u/min           5.029077              l/h  ...                     2003   \n",
       "4    u/min           5.452218              l/h  ...                     2003   \n",
       "\n",
       "  sensor.manufacturer  Intake Pressure.value Intake Pressure.unit  \\\n",
       "0               Volvo                    NaN                 None   \n",
       "1               Volvo                    NaN                 None   \n",
       "2               Volvo                    NaN                 None   \n",
       "3               Volvo                    NaN                 None   \n",
       "4               Volvo                    NaN                 None   \n",
       "\n",
       "   O2 Lambda Voltage ER.value O2 Lambda Voltage ER.unit  \\\n",
       "0                         NaN                      None   \n",
       "1                         NaN                      None   \n",
       "2                         NaN                      None   \n",
       "3                         NaN                      None   \n",
       "4                         NaN                      None   \n",
       "\n",
       "   O2 Lambda Voltage.value O2 Lambda Voltage.unit  Calculated MAF.value  \\\n",
       "0                      NaN                   None                   NaN   \n",
       "1                      NaN                   None                   NaN   \n",
       "2                      NaN                   None                   NaN   \n",
       "3                      NaN                   None                   NaN   \n",
       "4                      NaN                   None                   NaN   \n",
       "\n",
       "  Calculated MAF.unit  \n",
       "0                None  \n",
       "1                None  \n",
       "2                None  \n",
       "3                None  \n",
       "4                None  \n",
       "\n",
       "[5 rows x 53 columns]"
      ]
     },
     "execution_count": 49,
     "metadata": {},
     "output_type": "execute_result"
    }
   ],
   "source": [
    "track_df = from_geofeather('Data/Koln.feather')\n",
    "track_df.head()"
   ]
  },
  {
   "cell_type": "code",
   "execution_count": 32,
   "metadata": {},
   "outputs": [
    {
     "data": {
      "text/plain": [
       "<matplotlib.axes._subplots.AxesSubplot at 0x7f0d192d9340>"
      ]
     },
     "execution_count": 32,
     "metadata": {},
     "output_type": "execute_result"
    },
    {
     "data": {
      "image/png": "[encoded data removed]",
      "text/plain": [
       "<Figure size 720x864 with 1 Axes>"
      ]
     },
     "metadata": {
      "needs_background": "light"
     },
     "output_type": "display_data"
    }
   ],
   "source": [
    "track_df.plot(figsize=(10, 12))"
   ]
  },
  {
   "cell_type": "code",
   "execution_count": 53,
   "metadata": {},
   "outputs": [
    {
     "data": {
      "text/plain": [
       "count    36410.000000\n",
       "mean         1.096880\n",
       "std          5.723335\n",
       "min       -255.000008\n",
       "25%         -0.024620\n",
       "50%          1.440023\n",
       "75%          3.084063\n",
       "max         57.963098\n",
       "Name: diff, dtype: float64"
      ]
     },
     "execution_count": 53,
     "metadata": {},
     "output_type": "execute_result"
    }
   ],
   "source": [
    "#fixing the speed values\n",
    "#compare two speed values - GPS Speed.value and Speed.value\n",
    "track_df['diff']= track_df ['GPS Speed.value']-track_df['Speed.value']\n",
    "track_df['diff'].describe()"
   ]
  },
  {
   "cell_type": "code",
   "execution_count": 54,
   "metadata": {},
   "outputs": [
    {
     "data": {
      "text/plain": [
       "(array([4.0000e+00, 1.0000e+01, 5.0000e+00, 0.0000e+00, 2.0000e+00,\n",
       "        6.0000e+00, 4.0000e+00, 9.3900e+02, 3.5437e+04, 3.0000e+00]),\n",
       " array([-255.0000076 , -223.70369708, -192.40738655, -161.11107603,\n",
       "        -129.81476551,  -98.51845498,  -67.22214446,  -35.92583394,\n",
       "          -4.62952341,   26.66678711,   57.96309763]),\n",
       " <a list of 10 Patch objects>)"
      ]
     },
     "execution_count": 54,
     "metadata": {},
     "output_type": "execute_result"
    },
    {
     "data": {
      "image/png": "[encoded data removed]",
      "text/plain": [
       "<Figure size 432x288 with 1 Axes>"
      ]
     },
     "metadata": {
      "needs_background": "light"
     },
     "output_type": "display_data"
    }
   ],
   "source": [
    "plt.hist(track_df['diff'])"
   ]
  },
  {
   "cell_type": "code",
   "execution_count": null,
   "metadata": {},
   "outputs": [],
   "source": [
    "from pysal import esda\n",
    "import numpy as np\n",
    "\n",
    "from pyproj import CRS\n",
    "from pyproj import Transformer\n",
    "\n",
    "inputCRS = CRS.from_epsg(4326)\n",
    "outputCRS = CRS.from_epsg(25832)\n",
    "transformer = Transformer.from_crs(inputCRS, outputCRS)\n",
    "def project(a,b):\n",
    "    return transformer.transform(a, b)\n",
    "\n",
    "\n",
    "## select stopping times data\n",
    "df_speed = track_df[track_df['Speed.value'] == 0]\n",
    "\n",
    "##group by geometry\n",
    "## as the data is 5 sec if there are repeated lat,lng means the stop is +5 sec\n",
    "df_speed['lat'] = df_speed['geometry'].apply(lambda coord: coord.y)\n",
    "df_speed['lng'] = df_speed['geometry'].apply(lambda coord: coord.x)\n",
    "df_speed['time_sec'] = 5\n",
    "df_speed.reset_index()\n",
    "\n",
    "\n",
    "data_speed = df_speed.groupby(['lat','lng'])[['time_sec']].sum().reset_index()\n",
    "print(data_speed.head())\n",
    "#change this directory \n",
    "#data_speed.to_csv('/home/poshan/Desktop/MSc/FloatingCar/envirocar-py/examples/data.csv')\n"
   ]
  },
  {
   "cell_type": "code",
   "execution_count": null,
   "metadata": {},
   "outputs": [],
   "source": [
    "data_speed['time_sec'].describe()"
   ]
  },
  {
   "cell_type": "code",
   "execution_count": null,
   "metadata": {},
   "outputs": [],
   "source": [
    "### calculate weights for getis ord\n",
    "coords = [project(row['lat'], row['lng']) for index, row in data_speed.iterrows()]\n",
    "w = pysal.weights.DistanceBand(coords, threshold= 50)\n",
    "w\n",
    "# coords"
   ]
  },
  {
   "cell_type": "code",
   "execution_count": null,
   "metadata": {},
   "outputs": [],
   "source": [
    "#getisOrdGlobal = esda.getisord.G(data_speed['time_sec'], w)\n",
    "getisOrdLocal = esda.getisord.G_Local(data_speed['time_sec'], w, transform='B')\n",
    "getisOrdLocal.Zs"
   ]
  },
  {
   "cell_type": "code",
   "execution_count": null,
   "metadata": {},
   "outputs": [],
   "source": [
    "data_speed['z_score'] = getisOrdLocal.Zs\n",
    "data_speed['p_value'] = getisOrdLocal.p_norm\n",
    "# data_speed[data_speed['p_value'] < 0.05]\n",
    "# data_speed[data_speed['z_score'] == 0]\n",
    "# data_speed_hotspots = data_speed[data_speed['z_score'] > 0 and data_speed['p_value'] < 0.05]\n",
    "# hotspots1 = data_speed[data_speed['p_value'] < 0.05]\n",
    "#query\n",
    "# hotspot = data_speed.query('z_score > 0 & p_value < 0.05')\n",
    "#two conditions\n",
    "hotspot = data_speed[(data_speed.z_score > 0) & (data_speed.p_value <=0.05)]\n",
    "coldspot = data_speed[(data_speed.z_score < 0) & (data_speed.p_value <=0.05)]\n",
    "\n",
    "hotspot"
   ]
  },
  {
   "cell_type": "code",
   "execution_count": null,
   "metadata": {},
   "outputs": [],
   "source": [
    "from matplotlib import pyplot as plt\n",
    "#>1.96 hot spots\n",
    "#<-1.96 cold spots\n",
    "from matplotlib import colors as cls\n",
    "\n",
    "f, axarr = plt.subplots(1, figsize=(10,10))\n",
    "total_range = cls.Normalize(vmin = - 1.96, vmax = 1.96)\n",
    "\n",
    "def pltcolor(p_value, z_score, confidence):\n",
    "    cols=[]\n",
    "    size=[]\n",
    "    for p, z in zip(p_value, z_score):\n",
    "        if p < confidence:\n",
    "            if z > 0:\n",
    "                cols.append('red')\n",
    "                size.append(30)\n",
    "            else:\n",
    "                cols.append('blue')\n",
    "                size.append(30)\n",
    "        else:\n",
    "            cols.append('grey')\n",
    "            size.append(10)\n",
    "    return cols , size\n",
    "\n",
    "\n",
    "# Create the colors list using the function above\n",
    "cols, sizes = pltcolor(data_speed['p_value'], data_speed['z_score'], 0.05)\n",
    "\n",
    "plt.scatter(x=data_speed['lng'], y=data_speed['lat'], s=sizes, c=cols, lw = 0) #Pass on the list created by the function here\n",
    "plt.grid(True)\n",
    "plt.show()"
   ]
  },
  {
   "cell_type": "code",
   "execution_count": null,
   "metadata": {},
   "outputs": [],
   "source": [
    "import folium\n",
    "\n",
    "lats = data_speed['lat']\n",
    "lngs = data_speed['lng']\n",
    "\n",
    "#z-value\n",
    "z = data_speed['z_score']\n",
    "p = data_speed['p_value']\n",
    "\n",
    "avg_lat = sum(lats) / len(lats)\n",
    "avg_lngs = sum(lngs) / len(lngs)\n",
    "\n",
    "m = folium.Map(location=[avg_lat - 0.25, avg_lngs], tiles = 'Stamen Terrain', zoom_start=9)\n",
    "\n",
    "color, sizes = pltcolor(p, z, 0.05)\n",
    "time = data_speed['time_sec']\n",
    "def makepopup(t):\n",
    "    return str(t) + ' sec'\n",
    "\n",
    "for lat,lng,c,s,t in zip(lats, lngs, color, sizes, time):\n",
    "    radius = coords[2]\n",
    "    folium.CircleMarker([lat,lng], color = c, radius = s, fill = c, popup = makepopup(t)).add_to(m)\n",
    "m"
   ]
  },
  {
   "cell_type": "code",
   "execution_count": null,
   "metadata": {},
   "outputs": [],
   "source": []
  }
 ],
 "metadata": {
  "kernelspec": {
   "display_name": "Python 3",
   "language": "python",
   "name": "python3"
  },
  "language_info": {
   "codemirror_mode": {
    "name": "ipython",
    "version": 3
   },
   "file_extension": ".py",
   "mimetype": "text/x-python",
   "name": "python",
   "nbconvert_exporter": "python",
   "pygments_lexer": "ipython3",
   "version": "3.8.2"
  }
 },
 "nbformat": 4,
 "nbformat_minor": 4
}
