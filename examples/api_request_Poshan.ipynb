{
 "cells": [
  {
   "cell_type": "markdown",
   "metadata": {},
   "source": [
    "# Package loading and basic configurations"
   ]
  },
  {
   "cell_type": "code",
   "execution_count": 1,
   "metadata": {},
   "outputs": [],
   "source": [
    "%load_ext autoreload\n",
    "%autoreload 2\n",
    "\n",
    "# load dependencies'\n",
    "import pandas as pd\n",
    "import geopandas as gpd\n",
    "\n",
    "from envirocar import TrackAPI, DownloadClient, BboxSelector, ECConfig\n",
    "\n",
    "# create an initial but optional config and an api client\n",
    "config = ECConfig()\n",
    "track_api = TrackAPI(api_client=DownloadClient(config=config))"
   ]
  },
  {
   "cell_type": "markdown",
   "metadata": {},
   "source": [
    "# Querying enviroCar Tracks"
   ]
  },
  {
   "cell_type": "markdown",
   "metadata": {},
   "source": [
    "The following cell queries tracks from the enviroCar API. It defines a bbox for the area of Munich (Germany) and requests 50 tracks. The result is a GeoDataFrame, which is a geo-extended Pandas dataframe from the GeoPandas library. It contains all information of the track in a flat dataframe format including a specific geometry column. "
   ]
  },
  {
   "cell_type": "code",
   "execution_count": 2,
   "metadata": {},
   "outputs": [
    {
     "data": {
      "text/html": [
       "<div>\n",
       "<style scoped>\n",
       "    .dataframe tbody tr th:only-of-type {\n",
       "        vertical-align: middle;\n",
       "    }\n",
       "\n",
       "    .dataframe tbody tr th {\n",
       "        vertical-align: top;\n",
       "    }\n",
       "\n",
       "    .dataframe thead th {\n",
       "        text-align: right;\n",
       "    }\n",
       "</style>\n",
       "<table border=\"1\" class=\"dataframe\">\n",
       "  <thead>\n",
       "    <tr style=\"text-align: right;\">\n",
       "      <th></th>\n",
       "      <th>id</th>\n",
       "      <th>time</th>\n",
       "      <th>geometry</th>\n",
       "      <th>GPS Speed.value</th>\n",
       "      <th>GPS Speed.unit</th>\n",
       "      <th>Throttle Position.value</th>\n",
       "      <th>Throttle Position.unit</th>\n",
       "      <th>O2 Lambda Voltage ER.value</th>\n",
       "      <th>O2 Lambda Voltage ER.unit</th>\n",
       "      <th>O2 Lambda Voltage.value</th>\n",
       "      <th>...</th>\n",
       "      <th>Consumption.value</th>\n",
       "      <th>Consumption.unit</th>\n",
       "      <th>GPS PDOP.value</th>\n",
       "      <th>GPS PDOP.unit</th>\n",
       "      <th>CO2.value</th>\n",
       "      <th>CO2.unit</th>\n",
       "      <th>GPS VDOP.value</th>\n",
       "      <th>GPS VDOP.unit</th>\n",
       "      <th>GPS HDOP.value</th>\n",
       "      <th>GPS HDOP.unit</th>\n",
       "    </tr>\n",
       "  </thead>\n",
       "  <tbody>\n",
       "    <tr>\n",
       "      <th>0</th>\n",
       "      <td>5e1893c81126d80318be7150</td>\n",
       "      <td>2020-01-10T14:45:31</td>\n",
       "      <td>POINT (11.51580 48.10977)</td>\n",
       "      <td>53.394848</td>\n",
       "      <td>km/h</td>\n",
       "      <td>89.000000</td>\n",
       "      <td>%</td>\n",
       "      <td>1.566468</td>\n",
       "      <td>ratio</td>\n",
       "      <td>0.402643</td>\n",
       "      <td>...</td>\n",
       "      <td>NaN</td>\n",
       "      <td>NaN</td>\n",
       "      <td>NaN</td>\n",
       "      <td>NaN</td>\n",
       "      <td>NaN</td>\n",
       "      <td>NaN</td>\n",
       "      <td>NaN</td>\n",
       "      <td>NaN</td>\n",
       "      <td>NaN</td>\n",
       "      <td>NaN</td>\n",
       "    </tr>\n",
       "    <tr>\n",
       "      <th>1</th>\n",
       "      <td>5e1893c81126d80318be7152</td>\n",
       "      <td>2020-01-10T14:45:34</td>\n",
       "      <td>POINT (11.51529 48.10950)</td>\n",
       "      <td>56.124000</td>\n",
       "      <td>km/h</td>\n",
       "      <td>89.000000</td>\n",
       "      <td>%</td>\n",
       "      <td>1.897866</td>\n",
       "      <td>ratio</td>\n",
       "      <td>0.551453</td>\n",
       "      <td>...</td>\n",
       "      <td>NaN</td>\n",
       "      <td>NaN</td>\n",
       "      <td>NaN</td>\n",
       "      <td>NaN</td>\n",
       "      <td>NaN</td>\n",
       "      <td>NaN</td>\n",
       "      <td>NaN</td>\n",
       "      <td>NaN</td>\n",
       "      <td>NaN</td>\n",
       "      <td>NaN</td>\n",
       "    </tr>\n",
       "    <tr>\n",
       "      <th>2</th>\n",
       "      <td>5e1893c81126d80318be7153</td>\n",
       "      <td>2020-01-10T14:45:36</td>\n",
       "      <td>POINT (11.51494 48.10930)</td>\n",
       "      <td>62.534338</td>\n",
       "      <td>km/h</td>\n",
       "      <td>89.000002</td>\n",
       "      <td>%</td>\n",
       "      <td>1.657168</td>\n",
       "      <td>ratio</td>\n",
       "      <td>0.444792</td>\n",
       "      <td>...</td>\n",
       "      <td>NaN</td>\n",
       "      <td>NaN</td>\n",
       "      <td>NaN</td>\n",
       "      <td>NaN</td>\n",
       "      <td>NaN</td>\n",
       "      <td>NaN</td>\n",
       "      <td>NaN</td>\n",
       "      <td>NaN</td>\n",
       "      <td>NaN</td>\n",
       "      <td>NaN</td>\n",
       "    </tr>\n",
       "    <tr>\n",
       "      <th>3</th>\n",
       "      <td>5e1893c81126d80318be7154</td>\n",
       "      <td>2020-01-10T14:45:38</td>\n",
       "      <td>POINT (11.51454 48.10907)</td>\n",
       "      <td>67.635041</td>\n",
       "      <td>km/h</td>\n",
       "      <td>89.000003</td>\n",
       "      <td>%</td>\n",
       "      <td>1.892940</td>\n",
       "      <td>ratio</td>\n",
       "      <td>0.553365</td>\n",
       "      <td>...</td>\n",
       "      <td>NaN</td>\n",
       "      <td>NaN</td>\n",
       "      <td>NaN</td>\n",
       "      <td>NaN</td>\n",
       "      <td>NaN</td>\n",
       "      <td>NaN</td>\n",
       "      <td>NaN</td>\n",
       "      <td>NaN</td>\n",
       "      <td>NaN</td>\n",
       "      <td>NaN</td>\n",
       "    </tr>\n",
       "    <tr>\n",
       "      <th>4</th>\n",
       "      <td>5e1893c81126d80318be7155</td>\n",
       "      <td>2020-01-10T14:45:40</td>\n",
       "      <td>POINT (11.51414 48.10884)</td>\n",
       "      <td>67.572722</td>\n",
       "      <td>km/h</td>\n",
       "      <td>89.000002</td>\n",
       "      <td>%</td>\n",
       "      <td>1.589403</td>\n",
       "      <td>ratio</td>\n",
       "      <td>0.537282</td>\n",
       "      <td>...</td>\n",
       "      <td>NaN</td>\n",
       "      <td>NaN</td>\n",
       "      <td>NaN</td>\n",
       "      <td>NaN</td>\n",
       "      <td>NaN</td>\n",
       "      <td>NaN</td>\n",
       "      <td>NaN</td>\n",
       "      <td>NaN</td>\n",
       "      <td>NaN</td>\n",
       "      <td>NaN</td>\n",
       "    </tr>\n",
       "    <tr>\n",
       "      <th>...</th>\n",
       "      <td>...</td>\n",
       "      <td>...</td>\n",
       "      <td>...</td>\n",
       "      <td>...</td>\n",
       "      <td>...</td>\n",
       "      <td>...</td>\n",
       "      <td>...</td>\n",
       "      <td>...</td>\n",
       "      <td>...</td>\n",
       "      <td>...</td>\n",
       "      <td>...</td>\n",
       "      <td>...</td>\n",
       "      <td>...</td>\n",
       "      <td>...</td>\n",
       "      <td>...</td>\n",
       "      <td>...</td>\n",
       "      <td>...</td>\n",
       "      <td>...</td>\n",
       "      <td>...</td>\n",
       "      <td>...</td>\n",
       "      <td>...</td>\n",
       "    </tr>\n",
       "    <tr>\n",
       "      <th>29</th>\n",
       "      <td>574c6414e4b09078f97a65b3</td>\n",
       "      <td>2016-05-28T15:30:49</td>\n",
       "      <td>POINT (11.54857 48.14219)</td>\n",
       "      <td>32.077173</td>\n",
       "      <td>km/h</td>\n",
       "      <td>1.000000</td>\n",
       "      <td>%</td>\n",
       "      <td>NaN</td>\n",
       "      <td>NaN</td>\n",
       "      <td>NaN</td>\n",
       "      <td>...</td>\n",
       "      <td>NaN</td>\n",
       "      <td>NaN</td>\n",
       "      <td>1.0</td>\n",
       "      <td>precision</td>\n",
       "      <td>NaN</td>\n",
       "      <td>NaN</td>\n",
       "      <td>0.8</td>\n",
       "      <td>precision</td>\n",
       "      <td>0.7</td>\n",
       "      <td>precision</td>\n",
       "    </tr>\n",
       "    <tr>\n",
       "      <th>30</th>\n",
       "      <td>574c6414e4b09078f97a65b4</td>\n",
       "      <td>2016-05-28T15:30:54</td>\n",
       "      <td>POINT (11.54863 48.14262)</td>\n",
       "      <td>38.025890</td>\n",
       "      <td>km/h</td>\n",
       "      <td>2.000000</td>\n",
       "      <td>%</td>\n",
       "      <td>NaN</td>\n",
       "      <td>NaN</td>\n",
       "      <td>NaN</td>\n",
       "      <td>...</td>\n",
       "      <td>NaN</td>\n",
       "      <td>NaN</td>\n",
       "      <td>1.0</td>\n",
       "      <td>precision</td>\n",
       "      <td>NaN</td>\n",
       "      <td>NaN</td>\n",
       "      <td>0.8</td>\n",
       "      <td>precision</td>\n",
       "      <td>0.7</td>\n",
       "      <td>precision</td>\n",
       "    </tr>\n",
       "    <tr>\n",
       "      <th>31</th>\n",
       "      <td>574c6414e4b09078f97a65b5</td>\n",
       "      <td>2016-05-28T15:30:59</td>\n",
       "      <td>POINT (11.54872 48.14310)</td>\n",
       "      <td>35.753269</td>\n",
       "      <td>km/h</td>\n",
       "      <td>0.408369</td>\n",
       "      <td>%</td>\n",
       "      <td>NaN</td>\n",
       "      <td>NaN</td>\n",
       "      <td>NaN</td>\n",
       "      <td>...</td>\n",
       "      <td>NaN</td>\n",
       "      <td>NaN</td>\n",
       "      <td>1.0</td>\n",
       "      <td>precision</td>\n",
       "      <td>NaN</td>\n",
       "      <td>NaN</td>\n",
       "      <td>0.8</td>\n",
       "      <td>precision</td>\n",
       "      <td>0.7</td>\n",
       "      <td>precision</td>\n",
       "    </tr>\n",
       "    <tr>\n",
       "      <th>32</th>\n",
       "      <td>574c6414e4b09078f97a65b6</td>\n",
       "      <td>2016-05-28T15:31:04</td>\n",
       "      <td>POINT (11.54877 48.14348)</td>\n",
       "      <td>27.020265</td>\n",
       "      <td>km/h</td>\n",
       "      <td>1.745710</td>\n",
       "      <td>%</td>\n",
       "      <td>NaN</td>\n",
       "      <td>NaN</td>\n",
       "      <td>NaN</td>\n",
       "      <td>...</td>\n",
       "      <td>NaN</td>\n",
       "      <td>NaN</td>\n",
       "      <td>1.0</td>\n",
       "      <td>precision</td>\n",
       "      <td>NaN</td>\n",
       "      <td>NaN</td>\n",
       "      <td>0.8</td>\n",
       "      <td>precision</td>\n",
       "      <td>0.7</td>\n",
       "      <td>precision</td>\n",
       "    </tr>\n",
       "    <tr>\n",
       "      <th>33</th>\n",
       "      <td>574c6414e4b09078f97a65b7</td>\n",
       "      <td>2016-05-28T15:31:09</td>\n",
       "      <td>POINT (11.54855 48.14371)</td>\n",
       "      <td>23.399999</td>\n",
       "      <td>km/h</td>\n",
       "      <td>2.673554</td>\n",
       "      <td>%</td>\n",
       "      <td>NaN</td>\n",
       "      <td>NaN</td>\n",
       "      <td>NaN</td>\n",
       "      <td>...</td>\n",
       "      <td>NaN</td>\n",
       "      <td>NaN</td>\n",
       "      <td>1.0</td>\n",
       "      <td>precision</td>\n",
       "      <td>NaN</td>\n",
       "      <td>NaN</td>\n",
       "      <td>0.8</td>\n",
       "      <td>precision</td>\n",
       "      <td>0.7</td>\n",
       "      <td>precision</td>\n",
       "    </tr>\n",
       "  </tbody>\n",
       "</table>\n",
       "<p>9786 rows × 52 columns</p>\n",
       "</div>"
      ],
      "text/plain": [
       "                          id                 time                   geometry  \\\n",
       "0   5e1893c81126d80318be7150  2020-01-10T14:45:31  POINT (11.51580 48.10977)   \n",
       "1   5e1893c81126d80318be7152  2020-01-10T14:45:34  POINT (11.51529 48.10950)   \n",
       "2   5e1893c81126d80318be7153  2020-01-10T14:45:36  POINT (11.51494 48.10930)   \n",
       "3   5e1893c81126d80318be7154  2020-01-10T14:45:38  POINT (11.51454 48.10907)   \n",
       "4   5e1893c81126d80318be7155  2020-01-10T14:45:40  POINT (11.51414 48.10884)   \n",
       "..                       ...                  ...                        ...   \n",
       "29  574c6414e4b09078f97a65b3  2016-05-28T15:30:49  POINT (11.54857 48.14219)   \n",
       "30  574c6414e4b09078f97a65b4  2016-05-28T15:30:54  POINT (11.54863 48.14262)   \n",
       "31  574c6414e4b09078f97a65b5  2016-05-28T15:30:59  POINT (11.54872 48.14310)   \n",
       "32  574c6414e4b09078f97a65b6  2016-05-28T15:31:04  POINT (11.54877 48.14348)   \n",
       "33  574c6414e4b09078f97a65b7  2016-05-28T15:31:09  POINT (11.54855 48.14371)   \n",
       "\n",
       "    GPS Speed.value GPS Speed.unit  Throttle Position.value  \\\n",
       "0         53.394848           km/h                89.000000   \n",
       "1         56.124000           km/h                89.000000   \n",
       "2         62.534338           km/h                89.000002   \n",
       "3         67.635041           km/h                89.000003   \n",
       "4         67.572722           km/h                89.000002   \n",
       "..              ...            ...                      ...   \n",
       "29        32.077173           km/h                 1.000000   \n",
       "30        38.025890           km/h                 2.000000   \n",
       "31        35.753269           km/h                 0.408369   \n",
       "32        27.020265           km/h                 1.745710   \n",
       "33        23.399999           km/h                 2.673554   \n",
       "\n",
       "   Throttle Position.unit  O2 Lambda Voltage ER.value  \\\n",
       "0                       %                    1.566468   \n",
       "1                       %                    1.897866   \n",
       "2                       %                    1.657168   \n",
       "3                       %                    1.892940   \n",
       "4                       %                    1.589403   \n",
       "..                    ...                         ...   \n",
       "29                      %                         NaN   \n",
       "30                      %                         NaN   \n",
       "31                      %                         NaN   \n",
       "32                      %                         NaN   \n",
       "33                      %                         NaN   \n",
       "\n",
       "   O2 Lambda Voltage ER.unit  O2 Lambda Voltage.value  ... Consumption.value  \\\n",
       "0                      ratio                 0.402643  ...               NaN   \n",
       "1                      ratio                 0.551453  ...               NaN   \n",
       "2                      ratio                 0.444792  ...               NaN   \n",
       "3                      ratio                 0.553365  ...               NaN   \n",
       "4                      ratio                 0.537282  ...               NaN   \n",
       "..                       ...                      ...  ...               ...   \n",
       "29                       NaN                      NaN  ...               NaN   \n",
       "30                       NaN                      NaN  ...               NaN   \n",
       "31                       NaN                      NaN  ...               NaN   \n",
       "32                       NaN                      NaN  ...               NaN   \n",
       "33                       NaN                      NaN  ...               NaN   \n",
       "\n",
       "    Consumption.unit GPS PDOP.value  GPS PDOP.unit CO2.value  CO2.unit  \\\n",
       "0                NaN            NaN            NaN       NaN       NaN   \n",
       "1                NaN            NaN            NaN       NaN       NaN   \n",
       "2                NaN            NaN            NaN       NaN       NaN   \n",
       "3                NaN            NaN            NaN       NaN       NaN   \n",
       "4                NaN            NaN            NaN       NaN       NaN   \n",
       "..               ...            ...            ...       ...       ...   \n",
       "29               NaN            1.0      precision       NaN       NaN   \n",
       "30               NaN            1.0      precision       NaN       NaN   \n",
       "31               NaN            1.0      precision       NaN       NaN   \n",
       "32               NaN            1.0      precision       NaN       NaN   \n",
       "33               NaN            1.0      precision       NaN       NaN   \n",
       "\n",
       "   GPS VDOP.value  GPS VDOP.unit GPS HDOP.value  GPS HDOP.unit  \n",
       "0             NaN            NaN            NaN            NaN  \n",
       "1             NaN            NaN            NaN            NaN  \n",
       "2             NaN            NaN            NaN            NaN  \n",
       "3             NaN            NaN            NaN            NaN  \n",
       "4             NaN            NaN            NaN            NaN  \n",
       "..            ...            ...            ...            ...  \n",
       "29            0.8      precision            0.7      precision  \n",
       "30            0.8      precision            0.7      precision  \n",
       "31            0.8      precision            0.7      precision  \n",
       "32            0.8      precision            0.7      precision  \n",
       "33            0.8      precision            0.7      precision  \n",
       "\n",
       "[9786 rows x 52 columns]"
      ]
     },
     "execution_count": 2,
     "metadata": {},
     "output_type": "execute_result"
    }
   ],
   "source": [
    "bbox = BboxSelector([\n",
    "    11.446380615234375, # min_x\n",
    "    48.03218251603595, # min_y\n",
    "    11.678466796874998, # max_x\n",
    "    48.194471974688206  # max_y\n",
    "])\n",
    "#requested data for some part of Munich\n",
    "\n",
    "# issue a query\n",
    "track_df = track_api.get_tracks(bbox=bbox, num_results=20) # requesting 50 tracks inside the bbox\n",
    "track_df"
   ]
  },
  {
   "cell_type": "code",
   "execution_count": 3,
   "metadata": {},
   "outputs": [
    {
     "data": {
      "text/plain": [
       "<matplotlib.axes._subplots.AxesSubplot at 0x7f8b975dc650>"
      ]
     },
     "execution_count": 3,
     "metadata": {},
     "output_type": "execute_result"
    },
    {
     "data": {
      "image/png": "[encoded data removed]",
      "text/plain": [
       "<Figure size 576x720 with 1 Axes>"
      ]
     },
     "metadata": {
      "needs_background": "light"
     },
     "output_type": "display_data"
    }
   ],
   "source": [
    "track_df.plot(figsize=(8, 10))"
   ]
  },
  {
   "cell_type": "markdown",
   "metadata": {},
   "source": [
    "# Inspecting a single Track"
   ]
  },
  {
   "cell_type": "code",
   "execution_count": 4,
   "metadata": {},
   "outputs": [
    {
     "data": {
      "text/plain": [
       "<matplotlib.axes._subplots.AxesSubplot at 0x7f8b9682bc10>"
      ]
     },
     "execution_count": 4,
     "metadata": {},
     "output_type": "execute_result"
    },
    {
     "data": {
      "image/png": "[encoded data removed]",
      "text/plain": [
       "<Figure size 432x288 with 1 Axes>"
      ]
     },
     "metadata": {
      "needs_background": "light"
     },
     "output_type": "display_data"
    }
   ],
   "source": [
    "some_track_id = track_df['track.id'].unique()[13] #finding one id checking for 13th track\n",
    "some_track = track_df[track_df['track.id'] == some_track_id] #finding the track\n",
    "some_track.plot()"
   ]
  },
  {
   "cell_type": "markdown",
   "metadata": {},
   "source": [
    "#### Available attributes in the data"
   ]
  },
  {
   "cell_type": "code",
   "execution_count": 5,
   "metadata": {},
   "outputs": [
    {
     "data": {
      "text/plain": [
       "id                              object\n",
       "time                            object\n",
       "geometry                      geometry\n",
       "GPS Speed.value                float64\n",
       "GPS Speed.unit                  object\n",
       "Throttle Position.value        float64\n",
       "Throttle Position.unit          object\n",
       "O2 Lambda Voltage ER.value     float64\n",
       "O2 Lambda Voltage ER.unit       object\n",
       "O2 Lambda Voltage.value        float64\n",
       "O2 Lambda Voltage.unit          object\n",
       "Engine Load.value              float64\n",
       "Engine Load.unit                object\n",
       "MAF.value                      float64\n",
       "MAF.unit                        object\n",
       "GPS Altitude.value             float64\n",
       "GPS Altitude.unit               object\n",
       "Intake Temperature.value       float64\n",
       "Intake Temperature.unit         object\n",
       "Speed.value                    float64\n",
       "Speed.unit                      object\n",
       "Rpm.value                      float64\n",
       "Rpm.unit                        object\n",
       "GPS Bearing.value              float64\n",
       "GPS Bearing.unit                object\n",
       "Intake Pressure.value          float64\n",
       "Intake Pressure.unit            object\n",
       "GPS Accuracy.value             float64\n",
       "GPS Accuracy.unit               object\n",
       "track.id                        object\n",
       "track.length                   float64\n",
       "track.begin                     object\n",
       "track.end                       object\n",
       "sensor.type                     object\n",
       "sensor.engineDisplacement        int64\n",
       "sensor.model                    object\n",
       "sensor.id                       object\n",
       "sensor.fuelType                 object\n",
       "sensor.constructionYear          int64\n",
       "sensor.manufacturer             object\n",
       "Calculated MAF.value           float64\n",
       "Calculated MAF.unit             object\n",
       "Consumption.value              float64\n",
       "Consumption.unit                object\n",
       "GPS PDOP.value                 float64\n",
       "GPS PDOP.unit                   object\n",
       "CO2.value                      float64\n",
       "CO2.unit                        object\n",
       "GPS VDOP.value                 float64\n",
       "GPS VDOP.unit                   object\n",
       "GPS HDOP.value                 float64\n",
       "GPS HDOP.unit                   object\n",
       "dtype: object"
      ]
     },
     "execution_count": 5,
     "metadata": {},
     "output_type": "execute_result"
    }
   ],
   "source": [
    "track_df.dtypes"
   ]
  },
  {
   "cell_type": "markdown",
   "metadata": {},
   "source": [
    "#### Length of the track"
   ]
  },
  {
   "cell_type": "code",
   "execution_count": 16,
   "metadata": {},
   "outputs": [
    {
     "data": {
      "text/plain": [
       "7254.2389476454455"
      ]
     },
     "execution_count": 16,
     "metadata": {},
     "output_type": "execute_result"
    }
   ],
   "source": [
    "some_track[\"track.length\"].sum()"
   ]
  },
  {
   "cell_type": "markdown",
   "metadata": {},
   "source": [
    "#### Number of Segments"
   ]
  },
  {
   "cell_type": "code",
   "execution_count": 19,
   "metadata": {},
   "outputs": [
    {
     "data": {
      "text/plain": [
       "622"
      ]
     },
     "execution_count": 19,
     "metadata": {},
     "output_type": "execute_result"
    }
   ],
   "source": [
    "len(some_track)"
   ]
  },
  {
   "cell_type": "markdown",
   "metadata": {},
   "source": [
    "#### Plotting the Elevation of the Segments"
   ]
  },
  {
   "cell_type": "code",
   "execution_count": 6,
   "metadata": {
    "scrolled": true
   },
   "outputs": [
    {
     "data": {
      "text/plain": [
       "<matplotlib.axes._subplots.AxesSubplot at 0x7f8b967f7e50>"
      ]
     },
     "execution_count": 6,
     "metadata": {},
     "output_type": "execute_result"
    },
    {
     "data": {
      "image/png": "[encoded data removed]",
      "text/plain": [
       "<Figure size 432x288 with 1 Axes>"
      ]
     },
     "metadata": {
      "needs_background": "light"
     },
     "output_type": "display_data"
    }
   ],
   "source": [
    "ax = some_track['GPS Altitude.value'].plot()\n",
    "ax.set_title(\"Altitude\")\n",
    "ax.set_ylabel(some_track['GPS Altitude.unit'][0])\n",
    "ax.set_xlabel(\"Segment\")\n",
    "ax"
   ]
  },
  {
   "cell_type": "markdown",
   "metadata": {},
   "source": [
    "#### General Statistics of GPS Altitude "
   ]
  },
  {
   "cell_type": "code",
   "execution_count": 22,
   "metadata": {
    "scrolled": true
   },
   "outputs": [
    {
     "data": {
      "text/plain": [
       "count    9786.000000\n",
       "mean      573.329004\n",
       "std        51.756912\n",
       "min       470.999989\n",
       "25%       541.246029\n",
       "50%       561.982643\n",
       "75%       587.091131\n",
       "max       762.999989\n",
       "Name: GPS Altitude.value, dtype: float64"
      ]
     },
     "execution_count": 22,
     "metadata": {},
     "output_type": "execute_result"
    }
   ],
   "source": [
    "track_df[\"GPS Altitude.value\"].describe()"
   ]
  },
  {
   "cell_type": "markdown",
   "metadata": {},
   "source": [
    "## Interactive Map\n",
    "The following map-based visualization makes use of folium. It allows to visualizate geospatial data based on an interactive leaflet map. Since the data in the GeoDataframe is modelled as a set of Point instead of a LineString, we have to manually create a polyline"
   ]
  },
  {
   "cell_type": "code",
   "execution_count": 26,
   "metadata": {
    "scrolled": true
   },
   "outputs": [
    {
     "data": {
      "text/html": [
       "<div style=\"width:100%;\"><div style=\"position:relative;width:100%;height:0;padding-bottom:60%;\"><iframe src=\"about:blank\" style=\"position:absolute;width:100%;height:100%;left:0;top:0;border:none !important;\" data-html=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 onload=\"this.contentDocument.open();this.contentDocument.write(atob(this.getAttribute('data-html')));this.contentDocument.close();\" allowfullscreen webkitallowfullscreen mozallowfullscreen></iframe></div></div>"
      ],
      "text/plain": [
       "<folium.folium.Map at 0x7f8b94f90e10>"
      ]
     },
     "execution_count": 26,
     "metadata": {},
     "output_type": "execute_result"
    }
   ],
   "source": [
    "import folium\n",
    "\n",
    "# print(some_track[\"geometry\"]) #= coord \n",
    "\n",
    "# print(list(some_track[\"geometry\"].y)) #coord.y\n",
    "\n",
    "#why is this not working\n",
    "\n",
    "# list(some_track[\"geometry\"].y)\n",
    "\n",
    "# print(some_track[\"geometry\"].apply(lambda coord: coord.y))\n",
    "\n",
    "lats = list(some_track['geometry'].apply(lambda coord: coord.y))\n",
    "# print(lats)\n",
    "lngs = list(some_track['geometry'].apply(lambda coord: coord.x))\n",
    "\n",
    "avg_lat = sum(lats) / len(lats)\n",
    "avg_lngs = sum(lngs) / len(lngs)\n",
    "\n",
    "m = folium.Map(location=[avg_lat, avg_lngs], tiles = 'Stamen Terrain', zoom_start=12)\n",
    "folium.PolyLine([coords for coords in zip(lats, lngs)], color='red').add_to(m)\n",
    "m"
   ]
  },
  {
   "cell_type": "markdown",
   "metadata": {},
   "source": [
    "# Example: Visualization with pydeck (deck.gl)"
   ]
  },
  {
   "cell_type": "markdown",
   "metadata": {},
   "source": [
    "The pydeck library makes use of the basemap tiles from Mapbox. In case you want to visualize the map with basemap tiles, you need to register with MapBox, and configure a specific access token. The service is free until a certain level of traffic is esceeded.\n",
    "\n",
    "You can either configure it via your terminal (i.e. `export MAPBOX_API_KEY=<mapbox-key-here>`), which pydeck will automatically read, or you can pass it as a variable to the generation of pydeck (i.e. `pdk.Deck(mapbox_key=<mapbox-key-here>, ...)`."
   ]
  },
  {
   "cell_type": "code",
   "execution_count": 7,
   "metadata": {},
   "outputs": [
    {
     "data": {
      "text/html": [
       "\n",
       "        <iframe\n",
       "            width=\"900\"\n",
       "            height=\"500\"\n",
       "            src=\"./tracks_muenster.html\"\n",
       "            frameborder=\"0\"\n",
       "            allowfullscreen\n",
       "        ></iframe>\n",
       "        "
      ],
      "text/plain": [
       "<IPython.lib.display.IFrame at 0x7f4e508e19b0>"
      ]
     },
     "metadata": {},
     "output_type": "display_data"
    },
    {
     "data": {
      "text/plain": [
       "'/home/hafenkran/dev/envirocar/envirocar-py/examples/tracks_muenster.html'"
      ]
     },
     "execution_count": 7,
     "metadata": {},
     "output_type": "execute_result"
    }
   ],
   "source": [
    "import pydeck as pdk\n",
    "\n",
    "# for pydeck the attributes have to be flat\n",
    "track_df['lat'] = track_df['geometry'].apply(lambda coord: coord.y)\n",
    "track_df['lng'] = track_df['geometry'].apply(lambda coord: coord.x)\n",
    "vis_df = pd.DataFrame(track_df)\n",
    "vis_df['speed'] = vis_df['Speed.value']\n",
    "\n",
    "# omit unit columns\n",
    "vis_df_cols = [col for col in vis_df.columns if col.lower()[len(col)-4:len(col)] != 'unit']\n",
    "vis_df = vis_df[vis_df_cols]\n",
    "\n",
    "layer = pdk.Layer(\n",
    "    'ScatterplotLayer',\n",
    "    data=vis_df,\n",
    "    get_position='[lng, lat]',\n",
    "    auto_highlight=True,\n",
    "    get_radius=10,          # Radius is given in meters\n",
    "    get_fill_color='[speed < 20 ? 0 : (speed - 20)*8.5, speed < 50 ? 255 : 255 - (speed-50)*8.5, 0, 140]',  # Set an RGBA value for fill\n",
    "    pickable=True\n",
    ")\n",
    "\n",
    "# Set the viewport location\n",
    "view_state = pdk.ViewState(\n",
    "    longitude=7.5963592529296875,\n",
    "    latitude=51.96246168188569,\n",
    "    zoom=10,\n",
    "    min_zoom=5,\n",
    "    max_zoom=15,\n",
    "    pitch=40.5,\n",
    "    bearing=-27.36)\n",
    "\n",
    "r = pdk.Deck(\n",
    "    width=200, \n",
    "    layers=[layer], \n",
    "    initial_view_state=view_state #, mapbox_key=<mapbox-key-here>\n",
    ")\n",
    "r.to_html('tracks_muenster.html', iframe_width=900)"
   ]
  }
 ],
 "metadata": {
  "kernelspec": {
   "display_name": "Python 3",
   "language": "python",
   "name": "python3"
  },
  "language_info": {
   "codemirror_mode": {
    "name": "ipython",
    "version": 3
   },
   "file_extension": ".py",
   "mimetype": "text/x-python",
   "name": "python",
   "nbconvert_exporter": "python",
   "pygments_lexer": "ipython3",
   "version": "3.7.6"
  }
 },
 "nbformat": 4,
 "nbformat_minor": 4
}
