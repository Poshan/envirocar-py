{
 "cells": [
  {
   "cell_type": "markdown",
   "metadata": {},
   "source": [
    "# Package loading and basic configurations"
   ]
  },
  {
   "cell_type": "code",
   "execution_count": 1,
   "metadata": {},
   "outputs": [
    {
     "name": "stdout",
     "output_type": "stream",
     "text": [
      "conda 4.8.3\n",
      "\n",
      "Note: you may need to restart the kernel to use updated packages.\n"
     ]
    }
   ],
   "source": [
    "conda --version"
   ]
  },
  {
   "cell_type": "code",
   "execution_count": 117,
   "metadata": {},
   "outputs": [
    {
     "name": "stdout",
     "output_type": "stream",
     "text": [
      "The autoreload extension is already loaded. To reload it, use:\n",
      "  %reload_ext autoreload\n"
     ]
    }
   ],
   "source": [
    "%load_ext autoreload\n",
    "%autoreload 2\n",
    "\n",
    "# load dependencies'\n",
    "import pandas as pd\n",
    "import geopandas as gpd\n",
    "import seaborn as sns\n",
    "\n",
    "from envirocar import TrackAPI, DownloadClient, BboxSelector, ECConfig\n",
    "\n",
    "# create an initial but optional config and an api client\n",
    "config = ECConfig()\n",
    "track_api = TrackAPI(api_client=DownloadClient(config=config))"
   ]
  },
  {
   "cell_type": "markdown",
   "metadata": {},
   "source": [
    "# Querying enviroCar Tracks"
   ]
  },
  {
   "cell_type": "markdown",
   "metadata": {},
   "source": [
    "The following cell queries tracks from the enviroCar API. It defines a bbox for the area of Münster (Germany) and requests 50 tracks. The result is a GeoDataFrame, which is a geo-extended Pandas dataframe from the GeoPandas library. It contains all information of the track in a flat dataframe format including a specific geometry column. "
   ]
  },
  {
   "cell_type": "code",
   "execution_count": 118,
   "metadata": {
    "scrolled": false
   },
   "outputs": [
    {
     "data": {
      "text/html": [
       "<div>\n",
       "<style scoped>\n",
       "    .dataframe tbody tr th:only-of-type {\n",
       "        vertical-align: middle;\n",
       "    }\n",
       "\n",
       "    .dataframe tbody tr th {\n",
       "        vertical-align: top;\n",
       "    }\n",
       "\n",
       "    .dataframe thead th {\n",
       "        text-align: right;\n",
       "    }\n",
       "</style>\n",
       "<table border=\"1\" class=\"dataframe\">\n",
       "  <thead>\n",
       "    <tr style=\"text-align: right;\">\n",
       "      <th></th>\n",
       "      <th>id</th>\n",
       "      <th>time</th>\n",
       "      <th>geometry</th>\n",
       "      <th>GPS VDOP.value</th>\n",
       "      <th>GPS VDOP.unit</th>\n",
       "      <th>Intake Temperature.value</th>\n",
       "      <th>Intake Temperature.unit</th>\n",
       "      <th>O2 Lambda Voltage.value</th>\n",
       "      <th>O2 Lambda Voltage.unit</th>\n",
       "      <th>GPS PDOP.value</th>\n",
       "      <th>...</th>\n",
       "      <th>track.end</th>\n",
       "      <th>sensor.type</th>\n",
       "      <th>sensor.engineDisplacement</th>\n",
       "      <th>sensor.model</th>\n",
       "      <th>sensor.id</th>\n",
       "      <th>sensor.fuelType</th>\n",
       "      <th>sensor.constructionYear</th>\n",
       "      <th>sensor.manufacturer</th>\n",
       "      <th>track.appVersion</th>\n",
       "      <th>track.touVersion</th>\n",
       "    </tr>\n",
       "  </thead>\n",
       "  <tbody>\n",
       "    <tr>\n",
       "      <th>0</th>\n",
       "      <td>5a9bad3844ea851012e06c09</td>\n",
       "      <td>2018-02-24T16:21:20</td>\n",
       "      <td>POINT (6.77675 51.22546)</td>\n",
       "      <td>1.722027</td>\n",
       "      <td>precision</td>\n",
       "      <td>32.999999</td>\n",
       "      <td>c</td>\n",
       "      <td>2.774379</td>\n",
       "      <td>V</td>\n",
       "      <td>2.022027</td>\n",
       "      <td>...</td>\n",
       "      <td>2018-02-24T16:44:46Z</td>\n",
       "      <td>car</td>\n",
       "      <td>1800</td>\n",
       "      <td>Avensis</td>\n",
       "      <td>574e78cbe4b09078f97bbb4a</td>\n",
       "      <td>gasoline</td>\n",
       "      <td>2011</td>\n",
       "      <td>Toyota</td>\n",
       "      <td>NaN</td>\n",
       "      <td>NaN</td>\n",
       "    </tr>\n",
       "    <tr>\n",
       "      <th>1</th>\n",
       "      <td>5a9bad3844ea851012e06c0b</td>\n",
       "      <td>2018-02-24T16:21:25</td>\n",
       "      <td>POINT (6.77668 51.22518)</td>\n",
       "      <td>2.919473</td>\n",
       "      <td>precision</td>\n",
       "      <td>32.000000</td>\n",
       "      <td>c</td>\n",
       "      <td>4.589390</td>\n",
       "      <td>V</td>\n",
       "      <td>3.281339</td>\n",
       "      <td>...</td>\n",
       "      <td>2018-02-24T16:44:46Z</td>\n",
       "      <td>car</td>\n",
       "      <td>1800</td>\n",
       "      <td>Avensis</td>\n",
       "      <td>574e78cbe4b09078f97bbb4a</td>\n",
       "      <td>gasoline</td>\n",
       "      <td>2011</td>\n",
       "      <td>Toyota</td>\n",
       "      <td>NaN</td>\n",
       "      <td>NaN</td>\n",
       "    </tr>\n",
       "    <tr>\n",
       "      <th>2</th>\n",
       "      <td>5a9bad3844ea851012e06c0c</td>\n",
       "      <td>2018-02-24T16:21:30</td>\n",
       "      <td>POINT (6.77635 51.22497)</td>\n",
       "      <td>1.700000</td>\n",
       "      <td>precision</td>\n",
       "      <td>34.227160</td>\n",
       "      <td>c</td>\n",
       "      <td>3.118953</td>\n",
       "      <td>V</td>\n",
       "      <td>2.157822</td>\n",
       "      <td>...</td>\n",
       "      <td>2018-02-24T16:44:46Z</td>\n",
       "      <td>car</td>\n",
       "      <td>1800</td>\n",
       "      <td>Avensis</td>\n",
       "      <td>574e78cbe4b09078f97bbb4a</td>\n",
       "      <td>gasoline</td>\n",
       "      <td>2011</td>\n",
       "      <td>Toyota</td>\n",
       "      <td>NaN</td>\n",
       "      <td>NaN</td>\n",
       "    </tr>\n",
       "    <tr>\n",
       "      <th>3</th>\n",
       "      <td>5a9bad3844ea851012e06c0d</td>\n",
       "      <td>2018-02-24T16:21:35</td>\n",
       "      <td>POINT (6.77594 51.22484)</td>\n",
       "      <td>1.951852</td>\n",
       "      <td>precision</td>\n",
       "      <td>32.000000</td>\n",
       "      <td>c</td>\n",
       "      <td>3.282321</td>\n",
       "      <td>V</td>\n",
       "      <td>2.351852</td>\n",
       "      <td>...</td>\n",
       "      <td>2018-02-24T16:44:46Z</td>\n",
       "      <td>car</td>\n",
       "      <td>1800</td>\n",
       "      <td>Avensis</td>\n",
       "      <td>574e78cbe4b09078f97bbb4a</td>\n",
       "      <td>gasoline</td>\n",
       "      <td>2011</td>\n",
       "      <td>Toyota</td>\n",
       "      <td>NaN</td>\n",
       "      <td>NaN</td>\n",
       "    </tr>\n",
       "    <tr>\n",
       "      <th>4</th>\n",
       "      <td>5a9bad3844ea851012e06c0e</td>\n",
       "      <td>2018-02-24T16:21:40</td>\n",
       "      <td>POINT (6.77566 51.22471)</td>\n",
       "      <td>1.905823</td>\n",
       "      <td>precision</td>\n",
       "      <td>32.397662</td>\n",
       "      <td>c</td>\n",
       "      <td>3.358742</td>\n",
       "      <td>V</td>\n",
       "      <td>2.188153</td>\n",
       "      <td>...</td>\n",
       "      <td>2018-02-24T16:44:46Z</td>\n",
       "      <td>car</td>\n",
       "      <td>1800</td>\n",
       "      <td>Avensis</td>\n",
       "      <td>574e78cbe4b09078f97bbb4a</td>\n",
       "      <td>gasoline</td>\n",
       "      <td>2011</td>\n",
       "      <td>Toyota</td>\n",
       "      <td>NaN</td>\n",
       "      <td>NaN</td>\n",
       "    </tr>\n",
       "    <tr>\n",
       "      <th>...</th>\n",
       "      <td>...</td>\n",
       "      <td>...</td>\n",
       "      <td>...</td>\n",
       "      <td>...</td>\n",
       "      <td>...</td>\n",
       "      <td>...</td>\n",
       "      <td>...</td>\n",
       "      <td>...</td>\n",
       "      <td>...</td>\n",
       "      <td>...</td>\n",
       "      <td>...</td>\n",
       "      <td>...</td>\n",
       "      <td>...</td>\n",
       "      <td>...</td>\n",
       "      <td>...</td>\n",
       "      <td>...</td>\n",
       "      <td>...</td>\n",
       "      <td>...</td>\n",
       "      <td>...</td>\n",
       "      <td>...</td>\n",
       "      <td>...</td>\n",
       "    </tr>\n",
       "    <tr>\n",
       "      <th>373</th>\n",
       "      <td>57a35e90e4b086b281cf6bd8</td>\n",
       "      <td>2016-08-04T15:24:17</td>\n",
       "      <td>POINT (6.46094 51.22493)</td>\n",
       "      <td>1.738716</td>\n",
       "      <td>precision</td>\n",
       "      <td>26.000000</td>\n",
       "      <td>c</td>\n",
       "      <td>NaN</td>\n",
       "      <td>NaN</td>\n",
       "      <td>2.111836</td>\n",
       "      <td>...</td>\n",
       "      <td>2016-08-04T15:24:37Z</td>\n",
       "      <td>car</td>\n",
       "      <td>1400</td>\n",
       "      <td>Corsa D</td>\n",
       "      <td>578c86a7e4b086b281ada0d0</td>\n",
       "      <td>gasoline</td>\n",
       "      <td>2013</td>\n",
       "      <td>Opel</td>\n",
       "      <td>NaN</td>\n",
       "      <td>NaN</td>\n",
       "    </tr>\n",
       "    <tr>\n",
       "      <th>374</th>\n",
       "      <td>57a35e90e4b086b281cf6bd9</td>\n",
       "      <td>2016-08-04T15:24:22</td>\n",
       "      <td>POINT (6.46095 51.22494)</td>\n",
       "      <td>1.900000</td>\n",
       "      <td>precision</td>\n",
       "      <td>27.000000</td>\n",
       "      <td>c</td>\n",
       "      <td>NaN</td>\n",
       "      <td>NaN</td>\n",
       "      <td>2.327154</td>\n",
       "      <td>...</td>\n",
       "      <td>2016-08-04T15:24:37Z</td>\n",
       "      <td>car</td>\n",
       "      <td>1400</td>\n",
       "      <td>Corsa D</td>\n",
       "      <td>578c86a7e4b086b281ada0d0</td>\n",
       "      <td>gasoline</td>\n",
       "      <td>2013</td>\n",
       "      <td>Opel</td>\n",
       "      <td>NaN</td>\n",
       "      <td>NaN</td>\n",
       "    </tr>\n",
       "    <tr>\n",
       "      <th>375</th>\n",
       "      <td>57a35e90e4b086b281cf6bda</td>\n",
       "      <td>2016-08-04T15:24:27</td>\n",
       "      <td>POINT (6.46095 51.22494)</td>\n",
       "      <td>1.827628</td>\n",
       "      <td>precision</td>\n",
       "      <td>28.000000</td>\n",
       "      <td>c</td>\n",
       "      <td>NaN</td>\n",
       "      <td>NaN</td>\n",
       "      <td>2.198899</td>\n",
       "      <td>...</td>\n",
       "      <td>2016-08-04T15:24:37Z</td>\n",
       "      <td>car</td>\n",
       "      <td>1400</td>\n",
       "      <td>Corsa D</td>\n",
       "      <td>578c86a7e4b086b281ada0d0</td>\n",
       "      <td>gasoline</td>\n",
       "      <td>2013</td>\n",
       "      <td>Opel</td>\n",
       "      <td>NaN</td>\n",
       "      <td>NaN</td>\n",
       "    </tr>\n",
       "    <tr>\n",
       "      <th>376</th>\n",
       "      <td>57a35e90e4b086b281cf6bdb</td>\n",
       "      <td>2016-08-04T15:24:32</td>\n",
       "      <td>POINT (6.46097 51.22496)</td>\n",
       "      <td>1.900000</td>\n",
       "      <td>precision</td>\n",
       "      <td>29.000000</td>\n",
       "      <td>c</td>\n",
       "      <td>NaN</td>\n",
       "      <td>NaN</td>\n",
       "      <td>2.368122</td>\n",
       "      <td>...</td>\n",
       "      <td>2016-08-04T15:24:37Z</td>\n",
       "      <td>car</td>\n",
       "      <td>1400</td>\n",
       "      <td>Corsa D</td>\n",
       "      <td>578c86a7e4b086b281ada0d0</td>\n",
       "      <td>gasoline</td>\n",
       "      <td>2013</td>\n",
       "      <td>Opel</td>\n",
       "      <td>NaN</td>\n",
       "      <td>NaN</td>\n",
       "    </tr>\n",
       "    <tr>\n",
       "      <th>377</th>\n",
       "      <td>57a35e90e4b086b281cf6bdc</td>\n",
       "      <td>2016-08-04T15:24:37</td>\n",
       "      <td>POINT (6.46097 51.22496)</td>\n",
       "      <td>3.300000</td>\n",
       "      <td>precision</td>\n",
       "      <td>30.000000</td>\n",
       "      <td>c</td>\n",
       "      <td>NaN</td>\n",
       "      <td>NaN</td>\n",
       "      <td>3.900000</td>\n",
       "      <td>...</td>\n",
       "      <td>2016-08-04T15:24:37Z</td>\n",
       "      <td>car</td>\n",
       "      <td>1400</td>\n",
       "      <td>Corsa D</td>\n",
       "      <td>578c86a7e4b086b281ada0d0</td>\n",
       "      <td>gasoline</td>\n",
       "      <td>2013</td>\n",
       "      <td>Opel</td>\n",
       "      <td>NaN</td>\n",
       "      <td>NaN</td>\n",
       "    </tr>\n",
       "  </tbody>\n",
       "</table>\n",
       "<p>7440 rows × 52 columns</p>\n",
       "</div>"
      ],
      "text/plain": [
       "                           id                 time                  geometry  \\\n",
       "0    5a9bad3844ea851012e06c09  2018-02-24T16:21:20  POINT (6.77675 51.22546)   \n",
       "1    5a9bad3844ea851012e06c0b  2018-02-24T16:21:25  POINT (6.77668 51.22518)   \n",
       "2    5a9bad3844ea851012e06c0c  2018-02-24T16:21:30  POINT (6.77635 51.22497)   \n",
       "3    5a9bad3844ea851012e06c0d  2018-02-24T16:21:35  POINT (6.77594 51.22484)   \n",
       "4    5a9bad3844ea851012e06c0e  2018-02-24T16:21:40  POINT (6.77566 51.22471)   \n",
       "..                        ...                  ...                       ...   \n",
       "373  57a35e90e4b086b281cf6bd8  2016-08-04T15:24:17  POINT (6.46094 51.22493)   \n",
       "374  57a35e90e4b086b281cf6bd9  2016-08-04T15:24:22  POINT (6.46095 51.22494)   \n",
       "375  57a35e90e4b086b281cf6bda  2016-08-04T15:24:27  POINT (6.46095 51.22494)   \n",
       "376  57a35e90e4b086b281cf6bdb  2016-08-04T15:24:32  POINT (6.46097 51.22496)   \n",
       "377  57a35e90e4b086b281cf6bdc  2016-08-04T15:24:37  POINT (6.46097 51.22496)   \n",
       "\n",
       "     GPS VDOP.value GPS VDOP.unit  Intake Temperature.value  \\\n",
       "0          1.722027     precision                 32.999999   \n",
       "1          2.919473     precision                 32.000000   \n",
       "2          1.700000     precision                 34.227160   \n",
       "3          1.951852     precision                 32.000000   \n",
       "4          1.905823     precision                 32.397662   \n",
       "..              ...           ...                       ...   \n",
       "373        1.738716     precision                 26.000000   \n",
       "374        1.900000     precision                 27.000000   \n",
       "375        1.827628     precision                 28.000000   \n",
       "376        1.900000     precision                 29.000000   \n",
       "377        3.300000     precision                 30.000000   \n",
       "\n",
       "    Intake Temperature.unit  O2 Lambda Voltage.value O2 Lambda Voltage.unit  \\\n",
       "0                         c                 2.774379                      V   \n",
       "1                         c                 4.589390                      V   \n",
       "2                         c                 3.118953                      V   \n",
       "3                         c                 3.282321                      V   \n",
       "4                         c                 3.358742                      V   \n",
       "..                      ...                      ...                    ...   \n",
       "373                       c                      NaN                    NaN   \n",
       "374                       c                      NaN                    NaN   \n",
       "375                       c                      NaN                    NaN   \n",
       "376                       c                      NaN                    NaN   \n",
       "377                       c                      NaN                    NaN   \n",
       "\n",
       "     GPS PDOP.value  ...             track.end  sensor.type  \\\n",
       "0          2.022027  ...  2018-02-24T16:44:46Z          car   \n",
       "1          3.281339  ...  2018-02-24T16:44:46Z          car   \n",
       "2          2.157822  ...  2018-02-24T16:44:46Z          car   \n",
       "3          2.351852  ...  2018-02-24T16:44:46Z          car   \n",
       "4          2.188153  ...  2018-02-24T16:44:46Z          car   \n",
       "..              ...  ...                   ...          ...   \n",
       "373        2.111836  ...  2016-08-04T15:24:37Z          car   \n",
       "374        2.327154  ...  2016-08-04T15:24:37Z          car   \n",
       "375        2.198899  ...  2016-08-04T15:24:37Z          car   \n",
       "376        2.368122  ...  2016-08-04T15:24:37Z          car   \n",
       "377        3.900000  ...  2016-08-04T15:24:37Z          car   \n",
       "\n",
       "    sensor.engineDisplacement  sensor.model                 sensor.id  \\\n",
       "0                        1800       Avensis  574e78cbe4b09078f97bbb4a   \n",
       "1                        1800       Avensis  574e78cbe4b09078f97bbb4a   \n",
       "2                        1800       Avensis  574e78cbe4b09078f97bbb4a   \n",
       "3                        1800       Avensis  574e78cbe4b09078f97bbb4a   \n",
       "4                        1800       Avensis  574e78cbe4b09078f97bbb4a   \n",
       "..                        ...           ...                       ...   \n",
       "373                      1400      Corsa D   578c86a7e4b086b281ada0d0   \n",
       "374                      1400      Corsa D   578c86a7e4b086b281ada0d0   \n",
       "375                      1400      Corsa D   578c86a7e4b086b281ada0d0   \n",
       "376                      1400      Corsa D   578c86a7e4b086b281ada0d0   \n",
       "377                      1400      Corsa D   578c86a7e4b086b281ada0d0   \n",
       "\n",
       "     sensor.fuelType sensor.constructionYear  sensor.manufacturer  \\\n",
       "0           gasoline                    2011               Toyota   \n",
       "1           gasoline                    2011               Toyota   \n",
       "2           gasoline                    2011               Toyota   \n",
       "3           gasoline                    2011               Toyota   \n",
       "4           gasoline                    2011               Toyota   \n",
       "..               ...                     ...                  ...   \n",
       "373         gasoline                    2013                 Opel   \n",
       "374         gasoline                    2013                 Opel   \n",
       "375         gasoline                    2013                 Opel   \n",
       "376         gasoline                    2013                 Opel   \n",
       "377         gasoline                    2013                 Opel   \n",
       "\n",
       "    track.appVersion  track.touVersion  \n",
       "0                NaN               NaN  \n",
       "1                NaN               NaN  \n",
       "2                NaN               NaN  \n",
       "3                NaN               NaN  \n",
       "4                NaN               NaN  \n",
       "..               ...               ...  \n",
       "373              NaN               NaN  \n",
       "374              NaN               NaN  \n",
       "375              NaN               NaN  \n",
       "376              NaN               NaN  \n",
       "377              NaN               NaN  \n",
       "\n",
       "[7440 rows x 52 columns]"
      ]
     },
     "execution_count": 118,
     "metadata": {},
     "output_type": "execute_result"
    }
   ],
   "source": [
    "bbox = BboxSelector([\n",
    "    6.7559051513671875, # min_x\n",
    "    51.21226046094158, # min_y\n",
    "    6.792297363281249, # max_x\n",
    "    51.22817289705297  # max_y\n",
    "])\n",
    "\n",
    "# issue a query\n",
    "track_df = track_api.get_tracks(bbox=bbox, num_results=20) # requesting 20 tracks inside the bbox\n",
    "track_df"
   ]
  },
  {
   "cell_type": "code",
   "execution_count": 31,
   "metadata": {},
   "outputs": [
    {
     "name": "stdout",
     "output_type": "stream",
     "text": [
      "id\n",
      "time\n",
      "geometry\n",
      "GPS VDOP.value\n",
      "GPS VDOP.unit\n",
      "Intake Temperature.value\n",
      "Intake Temperature.unit\n",
      "O2 Lambda Voltage.value\n",
      "O2 Lambda Voltage.unit\n",
      "GPS PDOP.value\n",
      "GPS PDOP.unit\n",
      "Consumption.value\n",
      "Consumption.unit\n",
      "Throttle Position.value\n",
      "Throttle Position.unit\n",
      "O2 Lambda Voltage ER.value\n",
      "O2 Lambda Voltage ER.unit\n",
      "Intake Pressure.value\n",
      "Intake Pressure.unit\n",
      "GPS Accuracy.value\n",
      "GPS Accuracy.unit\n",
      "Engine Load.value\n",
      "Engine Load.unit\n",
      "GPS Altitude.value\n",
      "GPS Altitude.unit\n",
      "GPS HDOP.value\n",
      "GPS HDOP.unit\n",
      "Rpm.value\n",
      "Rpm.unit\n",
      "GPS Speed.value\n",
      "GPS Speed.unit\n",
      "Speed.value\n",
      "Speed.unit\n",
      "MAF.value\n",
      "MAF.unit\n",
      "GPS Bearing.value\n",
      "GPS Bearing.unit\n",
      "CO2.value\n",
      "CO2.unit\n",
      "track.id\n",
      "track.length\n",
      "track.begin\n",
      "track.end\n",
      "sensor.type\n",
      "sensor.engineDisplacement\n",
      "sensor.model\n",
      "sensor.id\n",
      "sensor.fuelType\n",
      "sensor.constructionYear\n",
      "sensor.manufacturer\n",
      "track.appVersion\n",
      "track.touVersion\n",
      "Calculated MAF.value\n",
      "Calculated MAF.unit\n"
     ]
    }
   ],
   "source": [
    "# Printing the column names in track_df geodataframe\n",
    "for col in track_df.columns:\n",
    "    print(col)"
   ]
  },
  {
   "cell_type": "code",
   "execution_count": 119,
   "metadata": {},
   "outputs": [
    {
     "data": {
      "text/plain": [
       "20"
      ]
     },
     "execution_count": 119,
     "metadata": {},
     "output_type": "execute_result"
    }
   ],
   "source": [
    "len(track_df.groupby('track.id'))"
   ]
  },
  {
   "cell_type": "code",
   "execution_count": 120,
   "metadata": {},
   "outputs": [
    {
     "data": {
      "text/plain": [
       "<matplotlib.axes._subplots.AxesSubplot at 0x20b76f5ae20>"
      ]
     },
     "execution_count": 120,
     "metadata": {},
     "output_type": "execute_result"
    },
    {
     "data": {
      "image/png": "[encoded data removed]",
      "text/plain": [
       "<Figure size 720x720 with 1 Axes>"
      ]
     },
     "metadata": {
      "needs_background": "light"
     },
     "output_type": "display_data"
    }
   ],
   "source": [
    "track_df.plot(figsize=(10, 10))"
   ]
  },
  {
   "cell_type": "markdown",
   "metadata": {},
   "source": [
    "# Inspecting a single Track"
   ]
  },
  {
   "cell_type": "code",
   "execution_count": 121,
   "metadata": {},
   "outputs": [
    {
     "data": {
      "text/plain": [
       "<matplotlib.axes._subplots.AxesSubplot at 0x20b7730c460>"
      ]
     },
     "execution_count": 121,
     "metadata": {},
     "output_type": "execute_result"
    },
    {
     "data": {
      "image/png": "[encoded data removed]",
      "text/plain": [
       "<Figure size 720x720 with 1 Axes>"
      ]
     },
     "metadata": {
      "needs_background": "light"
     },
     "output_type": "display_data"
    }
   ],
   "source": [
    "some_track_id = track_df['track.id'].unique()[0]\n",
    "some_track = track_df[track_df['track.id'] == some_track_id]\n",
    "some_track.plot(figsize=(10,10))"
   ]
  },
  {
   "cell_type": "code",
   "execution_count": 122,
   "metadata": {},
   "outputs": [
    {
     "data": {
      "text/plain": [
       "275"
      ]
     },
     "execution_count": 122,
     "metadata": {},
     "output_type": "execute_result"
    }
   ],
   "source": [
    "len(some_track['Speed.value'])"
   ]
  },
  {
   "cell_type": "code",
   "execution_count": 123,
   "metadata": {},
   "outputs": [],
   "source": [
    "some_track = some_track[some_track['Speed.value'].notna()]"
   ]
  },
  {
   "cell_type": "code",
   "execution_count": 124,
   "metadata": {},
   "outputs": [
    {
     "data": {
      "text/plain": [
       "275"
      ]
     },
     "execution_count": 124,
     "metadata": {},
     "output_type": "execute_result"
    }
   ],
   "source": [
    "len(some_track['Speed.value'])"
   ]
  },
  {
   "cell_type": "code",
   "execution_count": 125,
   "metadata": {},
   "outputs": [
    {
     "data": {
      "text/plain": [
       "count    275.000000\n",
       "mean      77.515545\n",
       "std       43.094688\n",
       "min        0.000000\n",
       "25%       38.954023\n",
       "50%       77.999998\n",
       "75%      121.000000\n",
       "max      132.999996\n",
       "Name: Speed.value, dtype: float64"
      ]
     },
     "execution_count": 125,
     "metadata": {},
     "output_type": "execute_result"
    }
   ],
   "source": [
    "# summary statistics of speed value for the selected track\n",
    "some_track['Speed.value'].describe()"
   ]
  },
  {
   "cell_type": "code",
   "execution_count": 126,
   "metadata": {},
   "outputs": [
    {
     "data": {
      "text/plain": [
       "count    275.000000\n",
       "mean      12.655975\n",
       "std        8.070626\n",
       "min        1.506369\n",
       "25%        4.919652\n",
       "50%       12.343069\n",
       "75%       19.617727\n",
       "max       31.688137\n",
       "Name: CO2.value, dtype: float64"
      ]
     },
     "execution_count": 126,
     "metadata": {},
     "output_type": "execute_result"
    }
   ],
   "source": [
    "# summary statistics of co2 value for the selected track\n",
    "some_track['CO2.value'].describe()"
   ]
  },
  {
   "cell_type": "code",
   "execution_count": 127,
   "metadata": {
    "scrolled": true
   },
   "outputs": [
    {
     "data": {
      "text/plain": [
       "<matplotlib.axes._subplots.AxesSubplot at 0x20b76ff3cd0>"
      ]
     },
     "execution_count": 127,
     "metadata": {},
     "output_type": "execute_result"
    },
    {
     "data": {
      "image/png": "[encoded data removed]",
      "text/plain": [
       "<Figure size 432x288 with 1 Axes>"
      ]
     },
     "metadata": {
      "needs_background": "light"
     },
     "output_type": "display_data"
    }
   ],
   "source": [
    "ax = some_track['Speed.value'].plot()\n",
    "ax.set_title(\"Speed\")\n",
    "ax.set_ylabel(some_track['Speed.unit'][0])\n",
    "ax"
   ]
  },
  {
   "cell_type": "code",
   "execution_count": 128,
   "metadata": {},
   "outputs": [
    {
     "data": {
      "text/plain": [
       "<matplotlib.axes._subplots.AxesSubplot at 0x20b7786f1f0>"
      ]
     },
     "execution_count": 128,
     "metadata": {},
     "output_type": "execute_result"
    },
    {
     "data": {
      "image/png": "[encoded data removed]",
      "text/plain": [
       "<Figure size 432x288 with 1 Axes>"
      ]
     },
     "metadata": {
      "needs_background": "light"
     },
     "output_type": "display_data"
    }
   ],
   "source": [
    "ay = some_track['CO2.value'].plot()\n",
    "ay.set_title(\"CO2\")\n",
    "ay.set_ylabel(some_track['CO2.unit'][0])\n",
    "ay"
   ]
  },
  {
   "cell_type": "markdown",
   "metadata": {},
   "source": [
    "### Scatterplot\n",
    "Using a function from the seaborn package to create a scatter plot of Speed and CO2 value for the chosen track."
   ]
  },
  {
   "cell_type": "code",
   "execution_count": 129,
   "metadata": {},
   "outputs": [
    {
     "data": {
      "image/png": "[encoded data removed]",
      "text/plain": [
       "<Figure size 432x432 with 3 Axes>"
      ]
     },
     "metadata": {
      "needs_background": "light"
     },
     "output_type": "display_data"
    }
   ],
   "source": [
    "sns.jointplot(y='CO2.value', x='Speed.value', data=some_track);\n"
   ]
  },
  {
   "cell_type": "markdown",
   "metadata": {},
   "source": [
    "## Interactive Map\n",
    "The following map-based visualization makes use of folium. It allows to visualizate geospatial data based on an interactive leaflet map. Since the data in the GeoDataframe is modelled as a set of Point instead of a LineString, we have to manually create a polyline"
   ]
  },
  {
   "cell_type": "code",
   "execution_count": 130,
   "metadata": {},
   "outputs": [
    {
     "data": {
      "text/html": [
       "<div style=\"width:100%;\"><div style=\"position:relative;width:100%;height:0;padding-bottom:60%;\"><iframe src=\"about:blank\" style=\"position:absolute;width:100%;height:100%;left:0;top:0;border:none !important;\" data-html=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 onload=\"this.contentDocument.open();this.contentDocument.write(atob(this.getAttribute('data-html')));this.contentDocument.close();\" allowfullscreen webkitallowfullscreen mozallowfullscreen></iframe></div></div>"
      ],
      "text/plain": [
       "<folium.folium.Map at 0x20b778da040>"
      ]
     },
     "execution_count": 130,
     "metadata": {},
     "output_type": "execute_result"
    }
   ],
   "source": [
    "import folium\n",
    "\n",
    "lats = list(some_track['geometry'].apply(lambda coord: coord.y))\n",
    "lngs = list(some_track['geometry'].apply(lambda coord: coord.x))\n",
    "\n",
    "avg_lat = sum(lats) / len(lats)\n",
    "avg_lngs = sum(lngs) / len(lngs)\n",
    "\n",
    "m = folium.Map(location=[avg_lat, avg_lngs], zoom_start=13)\n",
    "folium.PolyLine([coords for coords in zip(lats, lngs)], color='blue').add_to(m)\n",
    "m"
   ]
  },
  {
   "cell_type": "markdown",
   "metadata": {},
   "source": [
    "# Example: Visualization with pydeck (deck.gl)"
   ]
  },
  {
   "cell_type": "markdown",
   "metadata": {},
   "source": [
    "The pydeck library makes use of the basemap tiles from Mapbox. In case you want to visualize the map with basemap tiles, you need to register with MapBox, and configure a specific access token. The service is free until a certain level of traffic is esceeded.\n",
    "\n",
    "You can either configure it via your terminal (i.e. `export MAPBOX_API_KEY=<mapbox-key-here>`), which pydeck will automatically read, or you can pass it as a variable to the generation of pydeck (i.e. `pdk.Deck(mapbox_key=<mapbox-key-here>, ...)`."
   ]
  },
  {
   "cell_type": "code",
   "execution_count": 131,
   "metadata": {},
   "outputs": [
    {
     "data": {
      "text/html": [
       "\n",
       "        <iframe\n",
       "            width=\"900\"\n",
       "            height=\"500\"\n",
       "            src=\"./tracks_dusseldorf.html\"\n",
       "            frameborder=\"0\"\n",
       "            allowfullscreen\n",
       "        ></iframe>\n",
       "        "
      ],
      "text/plain": [
       "<IPython.lib.display.IFrame at 0x20b77917580>"
      ]
     },
     "metadata": {},
     "output_type": "display_data"
    },
    {
     "data": {
      "text/plain": [
       "'C:\\\\Users\\\\shres\\\\OneDrive - Universitat Jaume I\\\\II_sem\\\\Floating car project\\\\envirocar-py\\\\examples\\\\tracks_dusseldorf.html'"
      ]
     },
     "execution_count": 131,
     "metadata": {},
     "output_type": "execute_result"
    }
   ],
   "source": [
    "import pydeck as pdk\n",
    "\n",
    "# for pydeck the attributes have to be flat\n",
    "track_df['lat'] = track_df['geometry'].apply(lambda coord: coord.y)\n",
    "track_df['lng'] = track_df['geometry'].apply(lambda coord: coord.x)\n",
    "vis_df = pd.DataFrame(track_df)\n",
    "vis_df['speed'] = vis_df['Speed.value']\n",
    "\n",
    "# omit unit columns\n",
    "vis_df_cols = [col for col in vis_df.columns if col.lower()[len(col)-4:len(col)] != 'unit']\n",
    "vis_df = vis_df[vis_df_cols]\n",
    "\n",
    "layer = pdk.Layer(\n",
    "    'ScatterplotLayer',\n",
    "    data=vis_df,\n",
    "    get_position='[lng, lat]',\n",
    "    auto_highlight=True,\n",
    "    get_radius=10,          # Radius is given in meters\n",
    "    get_fill_color='[speed < 20 ? 0 : (speed - 20)*8.5, speed < 50 ? 255 : 255 - (speed-50)*8.5, 0, 140]',  # Set an RGBA value for fill\n",
    "    pickable=True\n",
    ")\n",
    "\n",
    "# Set the viewport location\n",
    "view_state = pdk.ViewState(\n",
    "    longitude=6.7559051513671875, #changed to min lat and lon of bbox\n",
    "    latitude=51.21226046094158,\n",
    "    zoom=10,\n",
    "    min_zoom=5,\n",
    "    max_zoom=15,\n",
    "    pitch=40.5,\n",
    "    bearing=-27.36)\n",
    "\n",
    "r = pdk.Deck(\n",
    "    width=200, \n",
    "    layers=[layer], \n",
    "    initial_view_state=view_state, mapbox_key=\"pk.eyJ1IjoiYW51c2hyZXN0aGE4MyIsImEiOiJjazh6cmYyenowZTJvM25wcmdma3YwamNxIn0.Hr0pkYHkHlCdgf-FmZTjbw\"\n",
    ")\n",
    "r.to_html('tracks_dusseldorf.html', iframe_width=900)"
   ]
  }
 ],
 "metadata": {
  "kernelspec": {
   "display_name": "Python 3",
   "language": "python",
   "name": "python3"
  },
  "language_info": {
   "codemirror_mode": {
    "name": "ipython",
    "version": 3
   },
   "file_extension": ".py",
   "mimetype": "text/x-python",
   "name": "python",
   "nbconvert_exporter": "python",
   "pygments_lexer": "ipython3",
   "version": "3.8.2"
  }
 },
 "nbformat": 4,
 "nbformat_minor": 4
}
