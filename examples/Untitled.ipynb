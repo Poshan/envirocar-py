{
 "cells": [
  {
   "cell_type": "code",
   "execution_count": 4,
   "metadata": {},
   "outputs": [
    {
     "data": {
      "text/plain": [
       "(610859.9270490196, 552748.6208969654)"
      ]
     },
     "execution_count": 4,
     "metadata": {},
     "output_type": "execute_result"
    }
   ],
   "source": [
    "from pyproj import CRS\n",
    "from pyproj import Transformer\n",
    "inputCRS = CRS.from_epsg(4326)\n",
    "outputCRS = CRS.from_epsg(25832)\n",
    "transformer = Transformer.from_crs(inputCRS, outputCRS)\n",
    "\n",
    "def project(a):\n",
    "    return transformer.transform(a[0], a[1])\n",
    "\n",
    "\n",
    "def project(a):\n",
    "    return transformer.transform(a[0], a[1])\n",
    "project([5,10])"
   ]
  },
  {
   "cell_type": "code",
   "execution_count": null,
   "metadata": {},
   "outputs": [],
   "source": []
  }
 ],
 "metadata": {
  "kernelspec": {
   "display_name": "Python 3",
   "language": "python",
   "name": "python3"
  },
  "language_info": {
   "codemirror_mode": {
    "name": "ipython",
    "version": 3
   },
   "file_extension": ".py",
   "mimetype": "text/x-python",
   "name": "python",
   "nbconvert_exporter": "python",
   "pygments_lexer": "ipython3",
   "version": "3.7.6"
  }
 },
 "nbformat": 4,
 "nbformat_minor": 4
}
